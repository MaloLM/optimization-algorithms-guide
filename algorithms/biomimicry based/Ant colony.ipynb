{
 "cells": [
  {
   "cell_type": "markdown",
   "id": "f6d5ef08",
   "metadata": {},
   "source": [
    "# Ant colony"
   ]
  },
  {
   "cell_type": "markdown",
   "id": "7abfa78c",
   "metadata": {},
   "source": [
    "## Understanding the algorithm\n",
    "\n",
    "Conçue à l'origine pour des problèmes discrets comme le problème du voyageur de commerce."
   ]
  },
  {
   "cell_type": "markdown",
   "id": "a12c7314-7ccd-46de-95a4-0a22010513ae",
   "metadata": {},
   "source": [
    "## Usage examples\n",
    "\n",
    "Details ici..."
   ]
  },
  {
   "cell_type": "markdown",
   "id": "f7767bb7",
   "metadata": {},
   "source": [
    "## Strenghts\n",
    "\n",
    "Details ici..."
   ]
  },
  {
   "cell_type": "markdown",
   "id": "8dfb1301",
   "metadata": {},
   "source": [
    "## Weaknesses\n",
    "\n",
    "Details ici..."
   ]
  },
  {
   "cell_type": "markdown",
   "id": "2ede478d",
   "metadata": {},
   "source": [
    "## Python demonstration"
   ]
  },
  {
   "cell_type": "code",
   "execution_count": 21,
   "id": "c418c639-2bfa-462a-ad4c-f3c426a8ac0b",
   "metadata": {
    "tags": []
   },
   "outputs": [],
   "source": [
    "# code ici"
   ]
  },
  {
   "cell_type": "markdown",
   "id": "d457aaf3-dad6-4935-8c0a-e0e59091d3cc",
   "metadata": {},
   "source": [
    "End of demonstration\n",
    "\n",
    "---\n",
    "\n",
    "## Practical optimization tools\n",
    "\n",
    "1. [**ACOpy (Python):**](https://pypi.org/project/acopy/) ACOpy is a Python library dedicated to the Ant Colony Optimization (ACO) algorithms. It's designed for solving combinatorial optimization problems, offering a straightforward and flexible implementation of the ACO algorithm. Its ease of integration with other Python tools and simple API makes it a popular choice for researchers and developers working with route optimization, scheduling, and similar problems.\n",
    "\n",
    "2. [**JMetalPy (Python):**](https://pypi.org/project/jmetalpy/) JMetalPy is an open-source Python framework for multi-objective optimization with metaheuristic techniques. It includes implementations of various algorithms, including Ant Colony Optimization. JMetalPy is known for its rich set of features and capabilities to handle different types of optimization problems, making it a versatile tool in the field of evolutionary computing and operations research.\n",
    "\n",
    "3. [**OptaPlanner (Java):**](https://www.optaplanner.org/) OptaPlanner is an AI constraint solver written in Java, designed to optimize planning and scheduling problems. While it primarily focuses on constraint satisfaction and optimization, it can be extended to incorporate metaheuristic algorithms like ACO for more complex optimization tasks. It's part of the broader Jakarta EE and MicroProfile ecosystem, offering robustness and enterprise-level features.\n",
    "\n",
    "4. [**Apache Hadoop (Java):**](https://hadoop.apache.org) While Apache Hadoop is primarily known for its distributed data processing and storage capabilities, its ecosystem allows for the implementation of various optimization algorithms, including Ant Colony Optimization. The ability to handle large-scale data makes Hadoop a suitable platform for running ACO algorithms on big data problems, especially in contexts where distributed computing is essential.\n",
    "\n",
    "5. [**ACOTSP (C++):**](https://github.com/epid/ACOTSP) ACOTSP stands for \"Ant Colony Optimization for the Traveling Salesman Problem\". It's a C++ program designed specifically for solving the Traveling Salesman Problem (TSP) using Ant Colony Optimization algorithms. ACOTSP is recognized for its efficiency and is commonly used in academic research for benchmarking and comparing ACO algorithms. Its focus on TSP, a classic optimization problem, makes it a valuable tool for both teaching and research in algorithmic and combinatorial optimization fields."
   ]
  },
  {
   "cell_type": "markdown",
   "metadata": {},
   "source": [
    "## Sources\n",
    "\n"
   ]
  }
 ],
 "metadata": {
  "kernelspec": {
   "display_name": "Python 3 (ipykernel)",
   "language": "python",
   "name": "python3"
  }
 },
 "nbformat": 4,
 "nbformat_minor": 5
}
