{
 "cells": [
  {
   "cell_type": "markdown",
   "id": "f6d5ef08",
   "metadata": {},
   "source": [
    "# Quadratic programming"
   ]
  },
  {
   "cell_type": "markdown",
   "id": "7abfa78c",
   "metadata": {},
   "source": [
    "## Understanding the algorithm\n",
    "\n",
    "Concerne l'optimisation continue pour des fonctions objectif quadratiques."
   ]
  },
  {
   "cell_type": "markdown",
   "id": "a12c7314-7ccd-46de-95a4-0a22010513ae",
   "metadata": {},
   "source": [
    "## Usage examples\n",
    "\n",
    "Details ici..."
   ]
  },
  {
   "cell_type": "markdown",
   "id": "f7767bb7",
   "metadata": {},
   "source": [
    "## Strengths\n",
    "\n",
    "Details ici..."
   ]
  },
  {
   "cell_type": "markdown",
   "id": "8dfb1301",
   "metadata": {},
   "source": [
    "## Weaknesses\n",
    "\n",
    "Details ici..."
   ]
  },
  {
   "cell_type": "markdown",
   "id": "2ede478d",
   "metadata": {},
   "source": [
    "## Python demonstration"
   ]
  },
  {
   "cell_type": "code",
   "execution_count": 21,
   "id": "c418c639-2bfa-462a-ad4c-f3c426a8ac0b",
   "metadata": {
    "tags": []
   },
   "outputs": [],
   "source": [
    "# code ici"
   ]
  },
  {
   "cell_type": "markdown",
   "id": "d457aaf3-dad6-4935-8c0a-e0e59091d3cc",
   "metadata": {},
   "source": [
    "End of demonstration\n",
    "\n",
    "---\n",
    "\n",
    "## Practical Optimization Tools\n",
    "\n",
    "1. **[Apache Commons Math (Java):](https://commons.apache.org/proper/commons-math/)** Part of the Apache Commons project, this Java library includes a range of mathematical and statistical tools. While its primary focus isn't exclusively on optimization, it does provide utilities for solving various types of problems, including quadratic programming. Apache Commons Math is appreciated for its comprehensive collection of algorithms and its integration into the Java ecosystem, making it a valuable tool for developers working in Java.\n",
    "\n",
    "2. **[CVXPY (Python):](https://www.cvxpy.org/)** A Python library for convex optimization, CVXPY provides a high-level interface for specifying convex optimization problems, including quadratic programming. It's designed to be intuitive and user-friendly, abstracting the complexities of problem formulation. CVXPY is widely appreciated for its ability to integrate with several underlying solvers, giving users flexibility and robustness in solving optimization problems.\n",
    "\n",
    "3. **[Coin-or Linear Program (COIN-OR LP) Solver (C++):](https://projects.coin-or.org/Clp)** Part of the COIN-OR project, this open-source library is written in C++ and specializes in solving linear and mixed integer programs, but it can be adapted for quadratic programming. It's known for its speed and efficiency, especially in large-scale applications, making it a popular choice in both academic and industrial settings.\n",
    "\n",
    "4. **[GNU Linear Programming Kit (GLPK) (C):](https://www.gnu.org/software/glpk/)** Although primarily focused on linear programming, GLPK includes features for solving mixed integer linear programming problems that can be extended to handle some forms of quadratic programming. It's part of the GNU Project and is valued for its combination of performance and freedom as a fully open-source tool.\n",
    "\n",
    "5. **[qpOASES (C++):](https://github.com/coin-or/qpOASES)** A C++ library specifically designed for quadratic programming, qpOASES implements the online active set strategy, which is suitable for both single and multi-stage quadratic programs. It's particularly noted for its application in real-time systems, where speed and reliability are crucial. qpOASES is part of the COIN-OR initiative, ensuring its development aligns with open-source and collaborative principles.\n",
    "\n"
   ]
  },
  {
   "cell_type": "markdown",
   "metadata": {},
   "source": [
    "## Sources"
   ]
  }
 ],
 "metadata": {
  "kernelspec": {
   "display_name": "Python 3 (ipykernel)",
   "language": "python",
   "name": "python3"
  }
 },
 "nbformat": 4,
 "nbformat_minor": 5
}
