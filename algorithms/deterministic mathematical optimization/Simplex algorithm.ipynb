{
 "cells": [
  {
   "cell_type": "markdown",
   "id": "f6d5ef08",
   "metadata": {},
   "source": [
    "# Simplex algorithm"
   ]
  },
  {
   "cell_type": "markdown",
   "id": "7abfa78c",
   "metadata": {},
   "source": [
    "## Understanding the algorithm\n",
    "\n",
    "The simplex algorithm is a mathematical method for solving linear programming problems. It was developed by George Dantzig in 1947. The basic principle of linear programming is to maximize or minimize a linear function, called the objective function, under linear constraints as well.\n",
    "\n",
    "Used for continuous linear optimization problems.\n",
    "\n",
    "Here are the main steps of the simplex algorithm:\n",
    "\n",
    "1. **Problem Formulation**: The problem is formulated in terms of an objective function to be maximized or minimized. For example, maximizing profit or minimizing cost.\n",
    "\n",
    "2. **Linear Constraints**: The constraints of the problem are expressed as linear equations or inequalities.\n",
    "\n",
    "3. **Feasible Basic Solution (FBS)**: An initial feasible basic solution is identified. An FBS is a solution that satisfies all the constraints and where the number of non-zero variables does not exceed the number of constraints.\n",
    "\n",
    "4. **Optimality Evaluation**: It is checked whether the current FBS maximizes (or minimizes) the objective function. If this is the case, the solution is optimal.\n",
    "\n",
    "5. **Iteration Towards a Better Solution**: If the current solution is not optimal, the algorithm performs a pivot. This involves choosing an entry variable (to increase the value of the objective function) and an exit variable (to maintain the constraints), and then recalculating the FBS.\n",
    "\n",
    "6. **Termination**: The algorithm ends when the optimal solution is reached or when there is no better possible solution (for example, in the case of an unbounded problem)."
   ]
  },
  {
   "cell_type": "markdown",
   "id": "a12c7314-7ccd-46de-95a4-0a22010513ae",
   "metadata": {},
   "source": [
    "## Usage examples\n",
    "\n",
    "The simplex algorithm is used in many situations where it is necessary to solve linear programming problems, that is, problems where one seeks to optimize (maximize or minimize) a linear function subject to linear constraints as well. Here are some typical contexts of use:\n",
    "\n",
    "1. **Resource Optimization**: In the industrial or production sector, for efficiently allocating limited resources (such as raw materials, machine time, or personnel) to maximize profit or productivity, or to minimize costs.\n",
    "\n",
    "2. **Planning and Scheduling**: For developing optimal schedules, whether in project management, flight scheduling in airlines, or production planning in factories.\n",
    "\n",
    "3. **Portfolio Management in Finance**: For the optimal selection of investments or the diversification of portfolios, where the goal is to maximize expected returns while managing risk.\n",
    "\n",
    "4. **Logistics and Transport**: To optimize delivery routes, inventory management, or vehicle assignment, in order to reduce costs or improve logistic efficiency.\n",
    "\n",
    "5. **Network and Telecommunications**: For optimal management of network traffic, bandwidth allocation, or network capacity planning.\n",
    "\n",
    "6. **Food and Agricultural Optimization**: To maximize crop yields or the efficiency of diets, considering nutritional constraints or available resources.\n",
    "\n",
    "7. **Operations Research and Strategic Decision Making**: In strategic decision-making for businesses or organizations, where various factors and constraints must be balanced to achieve an optimal overall objective.\n",
    "\n",
    "8. **Healthcare Sector**: For managing medical staff schedules, planning patients for various procedures, or managing hospital resources.\n",
    "\n",
    "___"
   ]
  },
  {
   "cell_type": "markdown",
   "id": "f7767bb7",
   "metadata": {},
   "source": [
    "## Strengths\n",
    "\n",
    "1. **Efficiency for Many Problems**: Although theoretically the simplex can take exponential time, in practice, it is very efficient for many real-world problems.\n",
    "\n",
    "2. **Guaranteed Optimal Solution**: If an optimal solution exists, the simplex will find it. It is precise and reliable in finding an optimal solution.\n",
    "\n",
    "3. **Flexibility and Adaptability**: The simplex can handle changes in the constraints or the objective function without having to start from scratch.\n",
    "\n",
    "4. **Interpretable Information**: The algorithm not only provides an optimal solution but also information about the sensitivity of solutions to changes in the problem's parameters.\n",
    "\n",
    "5. **Wide Applicability**: It can be applied to a wide range of problems in different fields such as economics, logistics, resource management, etc.\n",
    "\n",
    "---"
   ]
  },
  {
   "cell_type": "markdown",
   "id": "8dfb1301",
   "metadata": {},
   "source": [
    "## Weaknesses\n",
    "\n",
    "1. **Complexity with Large Data Sets**: For very large-scale problems or with a large number of constraints, the simplex can become inefficient in terms of computation time.\n",
    "\n",
    "2. **Unbounded or Tricky Problems**: In some cases, such as unbounded problems or those with degenerate solution regions, the simplex may not perform optimally.\n",
    "\n",
    "3. **Lack of Efficiency in Parallelization**: Unlike other methods, the simplex algorithm is difficult to parallelize efficiently, limiting its speed on modern computer systems.\n",
    "\n",
    "4. **Sensitivity to Rounding Errors**: As it relies on numerical calculations, it can be sensitive to rounding errors, especially in cases where the equations are nearly degenerate.\n",
    "\n",
    "5. **Not Universally Applicable**: The simplex only applies to linear programming problems and cannot be used for non-linear or discrete problems (such as integer programming).\n",
    "___"
   ]
  },
  {
   "cell_type": "markdown",
   "id": "2ede478d",
   "metadata": {},
   "source": [
    "## Python demonstration"
   ]
  },
  {
   "cell_type": "markdown",
   "metadata": {},
   "source": [
    "### Problem:\n",
    "- **Products**: Shoes, T-shirts, Jeans, Socks\n",
    "\n",
    "\n",
    "- **Profit per Unit**:\n",
    "  - Shoes: $200\n",
    "  - T-shirts: $45\n",
    "  - Jeans: $60\n",
    "  - Socks: $15\n",
    "- **Required Resources per Unit** (in resource units):\n",
    "  - Shoes: 5 of leather, 2 of plastic, 1 of cotton\n",
    "  - T-shirts: 3 of leather, 3 of plastic, 2 of cotton\n",
    "  - Jeans: 4 of leather, 0 of plastic, 3 of cotton\n",
    "  - Socks: 2 of leather, 2 of plastic, 4 of cotton\n",
    "- **Available Resources**:\n",
    "  - Leather: 100 units\n",
    "  - Plastic: 90 units\n",
    "  - Cotton: 120 units\n",
    "\n",
    "### Objective:\n",
    "Maximize total profit.\n",
    "\n",
    "### Constraints:\n",
    "1. The use of resources must not exceed the available quantities.\n",
    "2. The quantities of each product must be positive or zero.\n",
    "\n",
    "### Notes:\n",
    "- The coefficients in `c` represent the profits per unit for each product.\n",
    "- The matrix `A` and the vector `b` represent the constraints related to resource utilization.\n",
    "- In a real scenario, you would also need to manage aspects such as the selection of the entering and leaving variables, degenerate cases, and unbounded solutions in the implementation of the simplex."
   ]
  },
  {
   "cell_type": "code",
   "execution_count": 20,
   "metadata": {},
   "outputs": [
    {
     "name": "stdout",
     "output_type": "stream",
     "text": [
      "Optimal quantities for each products:\n",
      "Shoes: 13.0\n",
      "T-shirts: 17.0\n",
      "Jeans: 0.0\n",
      "Socks: 32.0\n",
      "Total earned: $3845.0\n"
     ]
    }
   ],
   "source": [
    "import numpy as np\n",
    "\n",
    "def simplex(A, b, c):\n",
    "    nrows, ncols = A.shape\n",
    "    X = np.zeros(ncols)\n",
    "    basis = [False] * ncols\n",
    "\n",
    "    basis[-nrows:] = [True] * nrows\n",
    "    B_inv = np.linalg.inv(A[:, basis])\n",
    "\n",
    "    while True:\n",
    "        X[basis] = np.dot(B_inv, b)\n",
    "\n",
    "        # Assurer que les quantités sont positives ou nulles\n",
    "        X = np.maximum(X, 0)\n",
    "\n",
    "        reduced_costs = c - np.dot(np.dot(c[basis], B_inv), A)\n",
    "        if all(reduced_cost >= 0 for reduced_cost in reduced_costs):\n",
    "            # Vérifier à nouveau les quantités avant de retourner le résultat\n",
    "            rounded_solution = np.maximum(np.round(X), 0)\n",
    "            return rounded_solution\n",
    "\n",
    "        entering = np.where(reduced_costs < 0)[0][0]\n",
    "        delta = np.dot(B_inv, A[:, entering])\n",
    "        if all(d <= 0 for d in delta):\n",
    "            raise Exception(\"Problem is unbounded.\")\n",
    "\n",
    "        ratios = [X[basis_var]/delta_var for basis_var, delta_var in zip(range(ncols), delta) if delta_var > 0]\n",
    "        leaving = np.where(basis)[0][np.argmin(ratios)]\n",
    "\n",
    "        basis[leaving] = False\n",
    "        basis[entering] = True\n",
    "        B_inv = np.linalg.inv(A[:, basis])\n",
    "\n",
    "# Define product names corresponding to variables\n",
    "product_names = [\"Shoes\", \"T-shirts\", \"Jeans\", \"Socks\"]\n",
    "\n",
    "# Define the coefficients for the objective function (profits)\n",
    "c = np.array([200, 45, 60, 15])\n",
    "\n",
    "# Define the matrix of coefficients for the constraints\n",
    "A = np.array([\n",
    "# the quantities and materials are not intended to be realistic\n",
    "    [5, 3, 4, 2],  # Leather, for example, you need 5 units of leather to make shoes while uou need 2 units to maje a jean.\n",
    "    [2, 3, 0, 2],  # Plastic\n",
    "    [1, 2, 3, 4]   # Cotton\n",
    "])\n",
    "\n",
    "# Define the right-hand side of the constraints (resource availability)\n",
    "b = np.array([100, 90, 120])\n",
    "\n",
    "# Solve the linear programming problem\n",
    "optimal_values = simplex(A, b, -c)  # Negate c for maximization\n",
    "\n",
    "# Associate optimal values with product names \n",
    "optimal_quantities = dict(zip(product_names, optimal_values))\n",
    "\n",
    "# Associate price with product names \n",
    "product_prices = dict(zip(product_names, c))\n",
    "total_earned = 0\n",
    "\n",
    "print(\"Optimal quantities for each products:\")\n",
    "for product, quantity in optimal_quantities.items():\n",
    "    price = product_prices[product]\n",
    "\n",
    "    total_earned += quantity * price\n",
    "    print(f\"{product}: {quantity}\")\n",
    "\n",
    "print(f\"Total earned: ${total_earned}\")"
   ]
  },
  {
   "cell_type": "markdown",
   "metadata": {},
   "source": [
    "🚨 **Attention: Independent Constraints Required**\n",
    "\n",
    "<div class=\"alert alert-block alert-danger\">\n",
    "When using the Simplex algorithm for linear programming, ensure your constraints (matrix `A`) are independent. A singular (non-invertible) matrix, caused by dependent constraints, leads to computational errors. Check this by ensuring the matrix's rank equals its number of columns. Adjust your constraints if necessary to avoid singularity issues.\n",
    "</div>"
   ]
  },
  {
   "cell_type": "markdown",
   "metadata": {},
   "source": [
    "### Portfolio problem resolution with simplex"
   ]
  },
  {
   "cell_type": "code",
   "execution_count": 21,
   "metadata": {},
   "outputs": [],
   "source": [
    "import pulp\n",
    "from assets.datasets.portfolio import Portfolio\n",
    "\n",
    "portfolio = Portfolio(10) # Select 10 companies\n",
    "assets = portfolio.get_assets()"
   ]
  },
  {
   "cell_type": "code",
   "execution_count": 22,
   "metadata": {},
   "outputs": [
    {
     "name": "stdout",
     "output_type": "stream",
     "text": [
      "Optimal Portfolio: \n",
      "\n",
      "Nebuchadnezzar Shipping: 0.0\n",
      "Shinra Electric Power Company: 0.0\n",
      "VersaLife: 0.0\n",
      "Sterling Cooper: 0.0\n",
      "Capsule Corp: 171.0\n",
      "The Chum Bucket: 1.0\n",
      "Umbrella Corporation: 0.0\n",
      "Paper Street Soap Company: 0.0\n",
      "Planetary Express: 0.0\n",
      "Primatech Paper Co: 0.0\n",
      "\n",
      " Total spent: 30000.0,\n",
      " Expected return: 6020.325 (20.06775%)\n"
     ]
    }
   ],
   "source": [
    "# Create a linear programming problem\n",
    "prob = pulp.LpProblem(\"PortfolioOptimization\", pulp.LpMaximize)\n",
    "\n",
    "# Variables for the number of stocks purchased (integers)\n",
    "stock_quantities = pulp.LpVariable.dicts(\"Stocks\", [a['AssetName'] for a in assets], 0, cat=pulp.LpInteger)\n",
    "\n",
    "# Risk aversion coefficient\n",
    "risk_aversion = 1\n",
    "\n",
    "# Total budget for investment\n",
    "total_budget = 30000\n",
    "\n",
    "# Objective function: Maximize risk-adjusted return\n",
    "prob += pulp.lpSum([(a['ExpectedReturn'] - risk_aversion * a['Risk']) * stock_quantities[a['AssetName']]\n",
    "                    for a in assets]), \"TotalExpectedReturn\"\n",
    "\n",
    "# Constraint: Total investment value should not exceed the budget\n",
    "prob += pulp.lpSum([a['UnitCost'] * stock_quantities[a['AssetName']] for a in assets]) <= total_budget, \"BudgetConstraint\"\n",
    "\n",
    "# Solve the problem\n",
    "prob.solve(pulp.apis.PULP_CBC_CMD(msg=False)) # Log message disabled\n",
    "\n",
    "# Display results\n",
    "print(\"Optimal Portfolio: \\n\")\n",
    "total_spent = 0\n",
    "total_expected_return = 0\n",
    "for asset in assets:\n",
    "    asset_name = asset['AssetName']\n",
    "    quantity = stock_quantities[asset_name].varValue\n",
    "    total_spent += asset['UnitCost'] * quantity\n",
    "    total_expected_return += quantity * asset['UnitCost'] * asset['ExpectedReturn'] * 0.01\n",
    "    print(f\"{asset_name}: {quantity}\")\n",
    "\n",
    "expected_return_percentage = (total_expected_return * 100) / total_spent\n",
    "\n",
    "print(f\"\\n Total spent: {total_spent},\\n Expected return: {total_expected_return} ({expected_return_percentage}%)\")\n"
   ]
  },
  {
   "cell_type": "markdown",
   "id": "d457aaf3-dad6-4935-8c0a-e0e59091d3cc",
   "metadata": {},
   "source": [
    "---\n",
    "## Practical optimization tools\n",
    "\n",
    "1. **SciPy**:\n",
    "   - **Library**: SciPy (`scipy.optimize.linprog`)\n",
    "   - **Features**: Part of the larger SciPy ecosystem, it offers a high-level interface for linear programming, including the Simplex method.\n",
    "   - **Usage**: Suitable for a wide range of applications, from academic research to industrial problems.\n",
    "   - **Ease of Use**: It is user-friendly, especially for those already familiar with the SciPy stack.\n",
    "\n",
    "2. **PuLP**:\n",
    "   - **Library**: PuLP\n",
    "   - **Features**: An LP modeler written in Python. PuLP can call multiple solvers, including its own implementation of the Simplex algorithm.\n",
    "   - **Usage**: Good for formulating LP problems in a more Pythonic way.\n",
    "   - **Ease of Use**: Very intuitive for Python users, allows easy model creation and solution extraction.\n",
    "\n",
    "3. **CVXOPT**:\n",
    "   - **Library**: CVXOPT\n",
    "   - **Features**: A Python library for convex optimization. It includes utilities for solving linear programming problems.\n",
    "   - **Usage**: More suitable for convex optimization problems but can be used for linear programming as well.\n",
    "   - **Ease of Use**: A bit more complex than PuLP or SciPy but offers more control and power for complex problems.\n",
    "\n",
    "4. **Google OR-Tools**:\n",
    "   - **Library**: Google OR-Tools\n",
    "   - **Features**: Provides operations research tools, including linear programming with various solvers.\n",
    "   - **Usage**: Very powerful for a wide range of optimization problems, including routing, scheduling, and planning.\n",
    "   - **Ease of Use**: Offers both a low-level and a high-level API, suitable for both simple and complex optimization tasks.\n",
    "\n",
    "5. **Gurobi** and **CPLEX**:\n",
    "   - **Libraries**: Gurobi and IBM ILOG CPLEX\n",
    "   - **Features**: Both are commercial optimization solvers with Python APIs, known for their performance and robustness.\n",
    "   - **Usage**: Widely used in industry for large-scale and complex linear programming problems.\n",
    "   - **Ease of Use**: Both provide Python interfaces but may have a steeper learning curve and require a license (free academic licenses are often available)."
   ]
  },
  {
   "cell_type": "markdown",
   "metadata": {},
   "source": [
    "## Sources"
   ]
  }
 ],
 "metadata": {
  "kernelspec": {
   "display_name": "Python 3 (ipykernel)",
   "language": "python",
   "name": "python3"
  },
  "language_info": {
   "codemirror_mode": {
    "name": "ipython",
    "version": 3
   },
   "file_extension": ".py",
   "mimetype": "text/x-python",
   "name": "python",
   "nbconvert_exporter": "python",
   "pygments_lexer": "ipython3",
   "version": "3.10.11"
  }
 },
 "nbformat": 4,
 "nbformat_minor": 5
}
