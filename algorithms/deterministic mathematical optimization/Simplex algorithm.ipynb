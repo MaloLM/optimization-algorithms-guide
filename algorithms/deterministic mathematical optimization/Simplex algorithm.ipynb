{
 "cells": [
  {
   "cell_type": "markdown",
   "id": "f6d5ef08",
   "metadata": {},
   "source": [
    "# Simplex algorithm\n",
    "\n",
    "![](../../assets/images/simplex_0.jpg \"\")"
   ]
  },
  {
   "cell_type": "markdown",
   "id": "7abfa78c",
   "metadata": {},
   "source": [
    "## Understanding the algorithm\n",
    "\n",
    "The simplex algorithm is a widely-used method for solving linear programming (LP) problems, typically involving an objective function and several constraints expressed as inequalities. Its main strengths lie in its systematic approach to exploring solutions and its efficiency in solving a wide range of optimization problems.\n",
    "\n",
    "Here is an overview of the simplex algorithm and its steps:\n",
    "\n",
    "1. **Objective Function and Constraints**: The algorithm begins by formulating the problem with an objective function to maximize or minimize, subject to constraints. These constraints are usually inequalities involving the decision variables.\n",
    "\n",
    "2. **Standard Form Conversion**: The problem is converted to a standard form. This involves introducing new variables for each constraint to transform inequalities into equalities. For instance, slack variables are added to less-than-or-equal-to constraints, and surplus variables to greater-than-or-equal-to constraints. This standard form is essential for the algorithm to process the problem effectively.\n",
    "\n",
    "3. **Initial Simplex Tableau**: The next step is to create an initial simplex tableau. This tableau is a matrix representation of the objective function and constraints, including the newly introduced slack and surplus variables. The tableau helps in organizing and performing calculations systematically.\n",
    "\n",
    "4. **Iterative Process**: The algorithm then enters an iterative process. It starts at a corner point of the feasible region (defined by the constraints) and moves along the edges of this region to adjacent extreme points. At each step, it evaluates whether moving to a new extreme point increases the value of the objective function.\n",
    "\n",
    "5. **Pivot Operation**: In each iteration, a pivot operation is performed. This involves choosing a column (entering variable) and a row (leaving variable) in the tableau. The entering variable is selected based on which variable can most increase the objective function value, and the leaving variable is chosen based on a minimum ratio rule to maintain the feasibility of the solution.\n",
    "\n",
    "6. **Test for Optimality**: After each iteration, a test for optimality is performed. If the solution is optimal (no further improvement is possible), the algorithm terminates. If not, the algorithm repeats the pivot operation with updated values.\n",
    "\n",
    "7. **Termination**: The algorithm terminates when it either finds an optimal solution or determines that no feasible solution exists. In some cases, it may also conclude that the objective function is unbounded for the given constraints.\n",
    "\n",
    "This method is particularly effective for problems involving many variables and constraints, which are common in real-world scenarios. While it can be computationally intensive for very large problems, in most practical applications, it converges to the optimal solution efficiently."
   ]
  },
  {
   "cell_type": "markdown",
   "id": "a12c7314-7ccd-46de-95a4-0a22010513ae",
   "metadata": {},
   "source": [
    "## Usage examples\n",
    "\n",
    "1. **Mathematical and Programming Problems**: The Simplex method is extensively used in many programming problems. Non-linear programming (NLP) problems often rely on the Simplex method to find solutions, especially when linear constraints are involved. In cases where non-linear problems cannot be solved effectively, they are often linearized to LP and then solved using the Simplex method. This method is also useful in supporting solutions derived from LP's theorems, such as Farkas' theorem, or in solving other problems like Quadratic Programming (QP) that have linear constraints.\n",
    "\n",
    "2. **Industrial Planning and Optimization**: Various industries utilize the Simplex method for planning under constraints. In agricultural contexts, for instance, farmers use it to allocate resources optimally to maximize profits. Constraints such as policy restrictions, budget concerns, and farmland area are considered, and profits are often linearly related to farm production, forming LP problems. Similarly, enterprises employ the Simplex method for developing rational marketing and sales strategies, where factors like cost and profit are linearly dependent on production. These applications showcase the method's ability to handle complex, multi-variable optimization problems in a real-world context.\n",
    "\n",
    "3. **Engineering, Finance, and Operations Research**: The Simplex algorithm has diverse applications in fields like engineering, finance, and operations research. It has been used for problems ranging from scheduling airline flights to designing manufacturing processes. These applications benefit from the algorithm's ability to efficiently handle large-scale linear programming problems, providing optimal solutions within a feasible region defined by a system of linear inequalities.\n",
    "\n",
    "4. **Efficient Operation and Quick Solution Finding**: The Simplex algorithm is known for its efficiency in solving linear programs, with the capability to handle problems with approximately 1000 variables and constraints within fractions of a second. This makes it a highly valuable tool in professional and industrial settings where quick and accurate optimization solutions are needed.\n",
    "\n",
    "5. **General Applicability in Linear Programming**: The Simplex algorithm operates on linear programs in canonical form, systematically exploring the edges of a polytope (a geometric representation of the feasible solution space) to find the optimal solution. This process involves moving from vertex to vertex (each representing a possible solution) along the edges of the polytope until the vertex corresponding to the optimal solution is reached. The algorithm is designed to terminate once it either finds this optimal solution or determines that no solution exists, making it a robust tool for a wide array of linear optimization problems."
   ]
  },
  {
   "cell_type": "markdown",
   "id": "f7767bb7",
   "metadata": {},
   "source": [
    "## Strengths\n",
    "\n",
    "1. **Efficiency for Complex Problems:** The Simplex method is notably faster than other algorithms when solving linear systems involving many variables. Its efficiency is particularly important in computer programming, where it significantly reduces the need for processing power. This efficiency becomes crucial in handling complex problems that may involve hundreds of equations and thousands of variables​​.\n",
    "\n",
    "2. **Applicability Beyond Graphical Methods:** Graphical methods are limited to problems with no more than three variables, as higher-dimensional problems cannot be visualized using them. The Simplex method overcomes this limitation, applying effectively where graphical methods cannot. This makes the Simplex method highly versatile, capable of handling problems in higher dimensions and with more complex constraints​.\n",
    "\n",
    "3. **Systematic Procedure and Finite Computation:** The Simplex method provides a systematic procedure for testing possible solutions, represented by the vertices of a polygonal region defined by inequalities. The method ensures that the solution, if it exists, is typically at one of these vertices. This systematic approach reduces the problem to a finite computation, despite the potentially astronomical number of extreme points involved in complex linear programs. George Dantzig's invention of the Simplex method in 1947 aimed to restrict the number of extreme points needing examination, making it one of the most efficient algorithms for solving optimization problems on computers​.\n",
    "\n",
    "4. **Phased Approach to Solutions:** The solution process of a linear program using the Simplex algorithm is accomplished in two steps: Phase I involves finding a starting extreme point, and Phase II applies the Simplex algorithm using this point as a starting point. This phased approach ensures that the algorithm either finds an optimum basic feasible solution or concludes that the problem is infeasible or unbounded. This clarity in process and outcomes contributes to the robustness and reliability of the Simplex method in practical applications​.\n",
    "\n",
    "5. **Effective Handling of Optimization Problems:** The Simplex method is particularly effective for systems where behavior can be modeled with linear functions. Its applicability spans numerous applications in economics, such as optimizing prices given supply and demand, as well as in scientific contexts, like monitoring predator-prey dynamics. This broad applicability underlines the method's utility in various practical scenarios where linear relationships are key​."
   ]
  },
  {
   "cell_type": "markdown",
   "id": "8dfb1301",
   "metadata": {},
   "source": [
    "## Weaknesses\n",
    "\n",
    "It's important to note that despite these limitations, the simplex method remains one of the most useful and widely employed algorithms for solving linear optimization problems, especially when the problems are not excessively large or complex.\n",
    "\n",
    "1. **Complexity for Large Problems**: While the simplex method is highly efficient and effective for many optimization problems, it can struggle with very large linear programs. This is because the number of extreme points (vertices of the polytope) that need to be examined increases significantly with the size of the problem, making the computation unmanageable for large-scale problems.\n",
    "\n",
    "2. **Phase I Complexity**: The simplex algorithm involves two phases. In Phase I, a starting extreme point is found. This step can be trivial for some programs but generally requires applying the simplex algorithm to a modified version of the original program, which can be complex and time-consuming.\n",
    "\n",
    "3. **Dependence on Initial Extreme Point**: The method assumes that an initial extreme point is known. If not, a variant of the simplex method, called Phase I, is used to find one or determine if no feasible solutions exist. This dependency on the initial point can be a limitation in certain scenarios.\n",
    "\n",
    "4. **Potential for Exponential Steps**: In theory, the number of steps required by the simplex method can grow exponentially with the number of extreme points. Although in practice it often converges on the optimal solution in a small multiple of the number of extreme points, there's a theoretical possibility of it requiring a significantly larger number of steps, especially in complex problems.\n",
    "\n",
    "5. **Handling Unbounded Edges**: In cases where one can move along an edge and make the objective function value increase without bound, the simplex method terminates with a prescription of the edge along which the objective goes to infinity. This means that in cases of unbounded edges, the simplex algorithm concludes that the problem has no solution."
   ]
  },
  {
   "cell_type": "markdown",
   "id": "2ede478d",
   "metadata": {},
   "source": [
    "## Python demonstration"
   ]
  },
  {
   "cell_type": "markdown",
   "metadata": {},
   "source": [
    "### Problem:\n",
    "- **Products**: Shoes, T-shirts, Jeans, Socks\n",
    "\n",
    "\n",
    "- **Profit per Unit**:\n",
    "  - Shoes: $200\n",
    "  - T-shirts: $45\n",
    "  - Jeans: $60\n",
    "  - Socks: $15\n",
    "- **Required Resources per Unit** (in resource units):\n",
    "  - Shoes: 5 of leather, 2 of plastic, 1 of cotton\n",
    "  - T-shirts: 3 of leather, 3 of plastic, 2 of cotton\n",
    "  - Jeans: 4 of leather, 0 of plastic, 3 of cotton\n",
    "  - Socks: 2 of leather, 2 of plastic, 4 of cotton\n",
    "- **Available Resources**:\n",
    "  - Leather: 100 units\n",
    "  - Plastic: 90 units\n",
    "  - Cotton: 120 units\n",
    "\n",
    "### Objective:\n",
    "Maximize total profit.\n",
    "\n",
    "### Constraints:\n",
    "1. The use of resources must not exceed the available quantities.\n",
    "2. The quantities of each product must be positive or zero.\n",
    "\n",
    "### Notes:\n",
    "- The coefficients in `c` represent the profits per unit for each product.\n",
    "- The matrix `A` and the vector `b` represent the constraints related to resource utilization.\n",
    "- In a real scenario, you would also need to manage aspects such as the selection of the entering and leaving variables, degenerate cases, and unbounded solutions in the implementation of the simplex."
   ]
  },
  {
   "cell_type": "code",
   "execution_count": 20,
   "metadata": {},
   "outputs": [
    {
     "name": "stdout",
     "output_type": "stream",
     "text": [
      "Optimal quantities for each products:\n",
      "Shoes: 13.0\n",
      "T-shirts: 17.0\n",
      "Jeans: 0.0\n",
      "Socks: 32.0\n",
      "Total earned: $3845.0\n"
     ]
    }
   ],
   "source": [
    "import numpy as np\n",
    "\n",
    "def simplex(A, b, c):\n",
    "    nrows, ncols = A.shape\n",
    "    X = np.zeros(ncols)\n",
    "    basis = [False] * ncols\n",
    "\n",
    "    basis[-nrows:] = [True] * nrows\n",
    "    B_inv = np.linalg.inv(A[:, basis])\n",
    "\n",
    "    while True:\n",
    "        X[basis] = np.dot(B_inv, b)\n",
    "\n",
    "        # Assurer que les quantités sont positives ou nulles\n",
    "        X = np.maximum(X, 0)\n",
    "\n",
    "        reduced_costs = c - np.dot(np.dot(c[basis], B_inv), A)\n",
    "        if all(reduced_cost >= 0 for reduced_cost in reduced_costs):\n",
    "            # Vérifier à nouveau les quantités avant de retourner le résultat\n",
    "            rounded_solution = np.maximum(np.round(X), 0)\n",
    "            return rounded_solution\n",
    "\n",
    "        entering = np.where(reduced_costs < 0)[0][0]\n",
    "        delta = np.dot(B_inv, A[:, entering])\n",
    "        if all(d <= 0 for d in delta):\n",
    "            raise Exception(\"Problem is unbounded.\")\n",
    "\n",
    "        ratios = [X[basis_var]/delta_var for basis_var, delta_var in zip(range(ncols), delta) if delta_var > 0]\n",
    "        leaving = np.where(basis)[0][np.argmin(ratios)]\n",
    "\n",
    "        basis[leaving] = False\n",
    "        basis[entering] = True\n",
    "        B_inv = np.linalg.inv(A[:, basis])\n",
    "\n",
    "# Define product names corresponding to variables\n",
    "product_names = [\"Shoes\", \"T-shirts\", \"Jeans\", \"Socks\"]\n",
    "\n",
    "# Define the coefficients for the objective function (profits)\n",
    "c = np.array([200, 45, 60, 15])\n",
    "\n",
    "# Define the matrix of coefficients for the constraints\n",
    "A = np.array([\n",
    "# the quantities and materials are not intended to be realistic\n",
    "    [5, 3, 4, 2],  # Leather, for example, you need 5 units of leather to make shoes while uou need 2 units to maje a jean.\n",
    "    [2, 3, 0, 2],  # Plastic\n",
    "    [1, 2, 3, 4]   # Cotton\n",
    "])\n",
    "\n",
    "# Define the right-hand side of the constraints (resource availability)\n",
    "b = np.array([100, 90, 120])\n",
    "\n",
    "# Solve the linear programming problem\n",
    "optimal_values = simplex(A, b, -c)  # Negate c for maximization\n",
    "\n",
    "# Associate optimal values with product names \n",
    "optimal_quantities = dict(zip(product_names, optimal_values))\n",
    "\n",
    "# Associate price with product names \n",
    "product_prices = dict(zip(product_names, c))\n",
    "total_earned = 0\n",
    "\n",
    "print(\"Optimal quantities for each products:\")\n",
    "for product, quantity in optimal_quantities.items():\n",
    "    price = product_prices[product]\n",
    "\n",
    "    total_earned += quantity * price\n",
    "    print(f\"{product}: {quantity}\")\n",
    "\n",
    "print(f\"Total earned: ${total_earned}\")"
   ]
  },
  {
   "cell_type": "markdown",
   "metadata": {},
   "source": [
    "🚨 **Attention: Independent Constraints Required**\n",
    "\n",
    "<div class=\"alert alert-block alert-warning\">\n",
    "When using the Simplex algorithm for linear programming, ensure your constraints (matrix `A`) are independent. A singular (non-invertible) matrix, caused by dependent constraints, leads to computational errors. Check this by ensuring the matrix's rank equals its number of columns. Adjust your constraints if necessary to avoid singularity issues.\n",
    "</div>"
   ]
  },
  {
   "cell_type": "markdown",
   "metadata": {},
   "source": [
    "### Portfolio problem resolution with simplex"
   ]
  },
  {
   "cell_type": "code",
   "execution_count": 21,
   "metadata": {},
   "outputs": [],
   "source": [
    "import pulp\n",
    "from assets.datasets.portfolio import Portfolio\n",
    "\n",
    "portfolio = Portfolio(10) # Select 10 companies\n",
    "assets = portfolio.get_assets"
   ]
  },
  {
   "cell_type": "code",
   "execution_count": 22,
   "metadata": {},
   "outputs": [
    {
     "name": "stdout",
     "output_type": "stream",
     "text": [
      "Optimal Portfolio: \n",
      "\n",
      "Nebuchadnezzar Shipping: 0.0\n",
      "Shinra Electric Power Company: 0.0\n",
      "VersaLife: 0.0\n",
      "Sterling Cooper: 0.0\n",
      "Capsule Corp: 171.0\n",
      "The Chum Bucket: 1.0\n",
      "Umbrella Corporation: 0.0\n",
      "Paper Street Soap Company: 0.0\n",
      "Planetary Express: 0.0\n",
      "Primatech Paper Co: 0.0\n",
      "\n",
      " Total spent: 30000.0,\n",
      " Expected return: 6020.325 (20.06775%)\n"
     ]
    }
   ],
   "source": [
    "# Create a linear programming problem\n",
    "prob = pulp.LpProblem(\"PortfolioOptimization\", pulp.LpMaximize)\n",
    "\n",
    "# Variables for the number of stocks purchased (integers)\n",
    "stock_quantities = pulp.LpVariable.dicts(\"Stocks\", [a['AssetName'] for a in assets], 0, cat=pulp.LpInteger)\n",
    "\n",
    "# Risk aversion coefficient\n",
    "risk_aversion = 1\n",
    "\n",
    "# Total budget for investment\n",
    "total_budget = 30000\n",
    "\n",
    "# Objective function: Maximize risk-adjusted return\n",
    "prob += pulp.lpSum([(a['ExpectedReturn'] - risk_aversion * a['Risk']) * stock_quantities[a['AssetName']]\n",
    "                    for a in assets]), \"TotalExpectedReturn\"\n",
    "\n",
    "# Constraint: Total investment value should not exceed the budget\n",
    "prob += pulp.lpSum([a['UnitCost'] * stock_quantities[a['AssetName']] for a in assets]) <= total_budget, \"BudgetConstraint\"\n",
    "\n",
    "# Solve the problem\n",
    "prob.solve(pulp.apis.PULP_CBC_CMD(msg=False)) # Log message disabled\n",
    "\n",
    "# Display results\n",
    "print(\"Optimal Portfolio: \\n\")\n",
    "total_spent = 0\n",
    "total_expected_return = 0\n",
    "for asset in assets:\n",
    "    asset_name = asset['AssetName']\n",
    "    quantity = stock_quantities[asset_name].varValue\n",
    "    total_spent += asset['UnitCost'] * quantity\n",
    "    total_expected_return += quantity * asset['UnitCost'] * asset['ExpectedReturn'] * 0.01\n",
    "    print(f\"{asset_name}: {quantity}\")\n",
    "\n",
    "expected_return_percentage = (total_expected_return * 100) / total_spent\n",
    "\n",
    "print(f\"\\n Total spent: {total_spent},\\n Expected return: {total_expected_return} ({expected_return_percentage}%)\")\n"
   ]
  },
  {
   "cell_type": "markdown",
   "id": "d457aaf3-dad6-4935-8c0a-e0e59091d3cc",
   "metadata": {},
   "source": [
    "End of demonstration\n",
    "\n",
    "---\n",
    "\n",
    "## Practical optimization tools\n",
    "\n",
    "1. [**PuLP (Python):**](https://coin-or.github.io/pulp/) PuLP is an open-source linear programming (LP) package for Python. It provides a nice Python interface for formulating LP and MIP problems and integrates with several of the major open-source and commercial solvers, including CBC, GLPK, and Gurobi. PuLP is known for its user-friendly interface, making it particularly accessible for those new to linear programming or optimization in Python.\n",
    "\n",
    "2. [**COIN-OR (C++):**](https://github.com/coin-or/Clp)  The Computational Infrastructure for Operations Research (COIN-OR) is an initiative to provide open-source software for the operations research community. Within COIN-OR, the Clp (Coin-or linear programming) solver implements the simplex algorithm and is written in C++. It's known for its high performance and is used in both academic research and industry. The other [COIN-OR projects](https://www.coin-or.org/projects/).\n",
    "\n",
    "3. [**GLPK (GNU Linear Programming Kit):**](https://www.gnu.org/software/glpk/)  GLPK is a set of routines written in C for solving large-scale linear programming (LP), mixed integer programming (MIP), and other related problems. It includes a simplex algorithm implementation and is renowned for its straightforward, no-frills approach to LP and MIP problems.\n",
    "\n",
    "4. [**lp_solve (ANSI C):**](https://lpsolve.sourceforge.net/)  A dedicated library for linear programming, lp_solve supports various algorithms including the simplex method. Written in ANSI C, it is designed to be highly portable and can be used as a standalone program or as a library in other applications. Its flexibility and ease of integration make it a popular choice for developers working on optimization problems.\n",
    "\n",
    "5. [**Apache Commons Math (Java):**](https://commons.apache.org/proper/commons-math/)  Part of the Apache Commons project, this Java library provides tools for mathematics and statistics. It includes utilities for optimization, and while primarily focused on nonlinear optimization, it can be used for linear problems as well. Its integration with Java makes it a go-to choice for developers in the Java ecosystem seeking optimization tools."
   ]
  },
  {
   "cell_type": "markdown",
   "metadata": {},
   "source": [
    "## Sources\n",
    "\n",
    "| Sources |\n",
    "| ------- |\n",
    "| [Simplex algorithm - Wikipedia](https://en.wikipedia.org/wiki/Simplex_algorithm) |\n",
    "| [Simplex algorithm - Cornell University](https://optimization.cbe.cornell.edu/index.php?title=Simplex_algorithm) |\n",
    "| [Simplex method - Britannica](https://www.britannica.com/topic/simplex-method) |\n",
    "| [Maximization By The Simplex Method - Libretexts Mathematics](https://math.libretexts.org/Bookshelves/Applied_Mathematics/Applied_Finite_Mathematics_(Sekhon_and_Bloom)/04%3A_Linear_Programming_The_Simplex_Method/4.02%3A_Maximization_By_The_Simplex_Method) |\n",
    "| [Simplex Method for Solution of L.P.P (With Examples) - Engineeringenotes ](https://www.engineeringenotes.com/linear-programming/simplex-method-for-solution-of-l-p-p-with-examples-operation-research/15373) |\n",
    "| [Linear Programming Advantages in the Simplex Method - eHow](https://www.ehow.co.uk/facts_7958922_linear-programming-advantages-simplex-method.html) |\n",
    "| [A Beginner’s Guide to Linear Programming and the Simplex Algorithm - Towardsdatascience](https://towardsdatascience.com/a-beginners-guide-to-linear-programming-and-the-simplex-algorithm-87db017e92b4) |\n",
    "| [The Network Simplex Algorithm - Springer link](https://link.springer.com/chapter/10.1007/978-3-642-32278-5_11) |\n"
   ]
  }
 ],
 "metadata": {
  "kernelspec": {
   "display_name": "Python 3 (ipykernel)",
   "language": "python",
   "name": "python3"
  },
  "language_info": {
   "codemirror_mode": {
    "name": "ipython",
    "version": 3
   },
   "file_extension": ".py",
   "mimetype": "text/x-python",
   "name": "python",
   "nbconvert_exporter": "python",
   "pygments_lexer": "ipython3",
   "version": "3.10.11"
  }
 },
 "nbformat": 4,
 "nbformat_minor": 5
}
