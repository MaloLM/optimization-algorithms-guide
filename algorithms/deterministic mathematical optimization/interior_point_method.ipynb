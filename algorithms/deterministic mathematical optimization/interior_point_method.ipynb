{
 "cells": [
  {
   "cell_type": "markdown",
   "id": "f6d5ef08",
   "metadata": {},
   "source": [
    "# Titre"
   ]
  },
  {
   "cell_type": "markdown",
   "id": "7abfa78c",
   "metadata": {},
   "source": [
    "## Algorithme : Qu'est-ce que c'est ?\n",
    "\n",
    "La méthode du point intérieur est une technique algorithmique utilisée en optimisation mathématique. Elle est particulièrement utilisée pour résoudre des problèmes d'optimisation linéaire, quadratique, et non linéaire, y compris ceux avec des contraintes.\n",
    "\n",
    "Voici les caractéristiques clés de cette méthode :\n",
    "\n",
    "1. **Approche de l'intérieur de la région admissible** : Contrairement aux méthodes de programmation linéaire comme le simplex, qui travaillent sur les bords de la région admissible, la méthode du point intérieur commence à l'intérieur de la région admissible et se déplace vers la solution optimale.\n",
    "\n",
    "2. **Barrière ou pénalité** : Elle utilise une fonction de barrière (ou pénalité) pour éviter de franchir les limites de la région admissible. Cette fonction de barrière augmente de manière significative à mesure que la solution approche des limites, \"repoussant\" l'algorithme vers l'intérieur.\n",
    "\n",
    "3. **Convergence** : En général, les méthodes du point intérieur convergent plus rapidement vers une solution optimale que les méthodes traditionnelles, surtout pour les problèmes de grande taille.\n",
    "\n",
    "4. **Types de problèmes résolus** : Ces méthodes sont particulièrement utiles pour les problèmes d'optimisation soumis à un grand nombre de contraintes.\n",
    "\n",
    "5. **Complexité** : Leur complexité calculatoire est souvent plus favorable, surtout pour les problèmes de grande taille, ce qui les rend attrayantes pour la résolution de problèmes d'optimisation industriels et de grande échelle."
   ]
  },
  {
   "cell_type": "markdown",
   "id": "a12c7314-7ccd-46de-95a4-0a22010513ae",
   "metadata": {},
   "source": [
    "## Quels usages ?\n",
    "\n",
    "1. **Optimisation Financière** : Dans la gestion de portefeuille, la méthode du point intérieur est utilisée pour optimiser la répartition des actifs. Elle aide à maximiser le rendement attendu tout en minimisant le risque, en respectant diverses contraintes comme les limites d'investissement dans certaines classes d'actifs.\n",
    "\n",
    "2. **Planification de Réseau de Transport** : Cette méthode est employée pour optimiser les itinéraires dans les réseaux de transport, tels que les réseaux de distribution logistique. Elle aide à minimiser les coûts de transport tout en respectant les contraintes telles que la capacité des véhicules et les fenêtres de livraison.\n",
    "\n",
    "3. **Optimisation de Processus Industriels** : Dans l'industrie chimique et de fabrication, la méthode du point intérieur est utilisée pour optimiser les processus de production, en maximisant l'efficacité et en minimisant les coûts, tout en respectant les contraintes environnementales et de sécurité.\n",
    "\n",
    "4. **Traitement d'Images et Vision par Ordinateur** : Elle est appliquée pour résoudre des problèmes d'optimisation dans le traitement d'images, comme la restauration d'images (réduction du bruit, amélioration de la netteté) et dans la reconstruction de scènes 3D à partir d'images 2D.\n",
    "\n",
    "5. **Optimisation de Réseaux Électriques** : Dans la gestion de l'énergie, cette méthode aide à optimiser la distribution d'électricité dans les réseaux électriques, en équilibrant l'offre et la demande, tout en minimisant les pertes de transmission et en respectant les contraintes de sécurité.\n",
    "\n",
    "6. **Optimisation de Systèmes de Communication** : Elle est utilisée pour optimiser la gestion des ressources dans les systèmes de communication, comme l'allocation de bande passante dans les réseaux de télécommunications.\n",
    "\n",
    "7. **Machine Learning et Optimisation des Hyperparamètres** : En apprentissage automatique, la méthode du point intérieur est souvent utilisée pour optimiser les hyperparamètres des modèles, en trouvant le meilleur compromis entre la précision du modèle et sa complexité ou son temps d'exécution.\n",
    "\n",
    "___"
   ]
  },
  {
   "cell_type": "markdown",
   "id": "f7767bb7",
   "metadata": {},
   "source": [
    "## Forces\n",
    "\n",
    "1. **Efficacité sur les Grands Ensembles de Données** : Elle est généralement plus efficace que les méthodes traditionnelles, comme le simplex, pour les problèmes de grande taille, grâce à une meilleure complexité computationnelle.\n",
    "\n",
    "2. **Robustesse aux Contraintes Nombreuses** : Cette méthode est particulièrement efficace pour traiter des problèmes avec un grand nombre de contraintes.\n",
    "\n",
    "3. **Convergence Rapide** : Les méthodes du point intérieur ont tendance à converger rapidement vers une solution, surtout dans les phases avancées de l'optimisation.\n",
    "\n",
    "4. **Précision** : Elles fournissent des solutions très précises, ce qui est crucial dans des applications sensibles comme la finance ou l'ingénierie.\n",
    "\n",
    "5. **Polyvalence** : Applicable à une large gamme de problèmes d'optimisation, y compris linéaire, non-linéaire, et quadratique.\n",
    "___"
   ]
  },
  {
   "cell_type": "markdown",
   "id": "8dfb1301",
   "metadata": {},
   "source": [
    "## Inconvénients\n",
    "\n",
    "1. **Complexité de Mise en Œuvre** : La mise en œuvre de ces méthodes peut être plus complexe que celle des méthodes traditionnelles, nécessitant une compréhension approfondie des mathématiques sous-jacentes.\n",
    "\n",
    "2. **Choix de la Fonction de Barrière** : La performance de l'algorithme peut dépendre fortement de la fonction de barrière choisie et de sa gestion au cours de l'optimisation.\n",
    "\n",
    "3. **Dépendance à un Bon Point de Départ** : Bien que la méthode commence à l'intérieur de la région admissible, trouver un bon point de départ peut être difficile pour certains problèmes.\n",
    "\n",
    "4. **Problèmes de Scaling** : Pour certains types de problèmes, surtout ceux avec des échelles très différentes dans les variables ou les contraintes, l'algorithme peut avoir des difficultés à converger.\n",
    "\n",
    "5. **Gestion des Contraintes de Bornes** : La méthode du point intérieur peut rencontrer des difficultés avec les contraintes strictes de bornes, nécessitant des ajustements ou des reformulations du problème.\n",
    "\n",
    "___"
   ]
  },
  {
   "cell_type": "markdown",
   "id": "2ede478d",
   "metadata": {},
   "source": [
    "## Python demonstration"
   ]
  },
  {
   "cell_type": "code",
   "execution_count": 11,
   "id": "c418c639-2bfa-462a-ad4c-f3c426a8ac0b",
   "metadata": {
    "tags": []
   },
   "outputs": [
    {
     "name": "stdout",
     "output_type": "stream",
     "text": [
      "Point optimal trouvé: ( 4.883844647167765e-07 , 1.1823292323622598e-07 )\n"
     ]
    }
   ],
   "source": [
    "import math\n",
    "import numpy as np\n",
    "import plotly.graph_objects as go\n",
    "\n",
    "# Fonction objectif\n",
    "def objective_function(x, y, t, a, b, c, d, e, f):\n",
    "    return x**2 + y**2 - t*(math.log(x) + math.log(y) + \n",
    "                            math.log(c - a*x - b*y) + \n",
    "                            math.log(f - d*x - e*y))\n",
    "\n",
    "# Gradient de la fonction objectif\n",
    "def gradient(x, y, t, a, b, c, d, e, f):\n",
    "    grad_x = 2*x - t*(-a/(c - a*x - b*y) - d/(f - d*x - e*y) + 1/x)\n",
    "    grad_y = 2*y - t*(-b/(c - a*x - b*y) - e/(f - d*x - e*y) + 1/y)\n",
    "    return grad_x, grad_y\n",
    "\n",
    "# Méthode de descente de gradient avec enregistrement du chemin\n",
    "def gradient_descent(x0, y0, t, a, b, c, d, e, f, learning_rate, max_iterations):\n",
    "    x, y = x0, y0\n",
    "    path = [(x, y)]  # Enregistrer le chemin\n",
    "    for _ in range(max_iterations):\n",
    "        grad_x, grad_y = gradient(x, y, t, a, b, c, d, e, f)\n",
    "        x -= learning_rate * grad_x\n",
    "        y -= learning_rate * grad_y\n",
    "        path.append((x, y))\n",
    "\n",
    "        # Mise à jour de t pour réduire l'impact de la barrière\n",
    "        t *= 0.9\n",
    "\n",
    "        # Vérifier les conditions de convergence (optionnel)\n",
    "        if math.fabs(grad_x) < 1e-6 and math.fabs(grad_y) < 1e-6:\n",
    "            break\n",
    "\n",
    "    return x, y, path\n",
    "\n",
    "# Paramètres initiaux\n",
    "x0, y0 = 3, 0.5\n",
    "t = 1\n",
    "a, b, c, d, e, f = 1, 1, 10, 1, 1, 10\n",
    "learning_rate = 0.01\n",
    "max_iterations = 1000\n",
    "\n",
    "# Exécution de la méthode de descente de gradient\n",
    "optimal_x, optimal_y, central_path = gradient_descent(x0, y0, t, a, b, c, d, e, f, learning_rate, max_iterations)\n",
    "print(\"Point optimal trouvé: (\", optimal_x, \",\", optimal_y, \")\")\n"
   ]
  },
  {
   "cell_type": "markdown",
   "id": "d457aaf3-dad6-4935-8c0a-e0e59091d3cc",
   "metadata": {},
   "source": [
    "---\n",
    "## Where to use ?\n",
    "\n",
    "For open-source solutions utilizing the interior point method, consider the following libraries:\n",
    "\n",
    "1. [**SciPy (Python):**](https://scipy.org)  A comprehensive library for scientific computing in Python, SciPy includes the `scipy.optimize` module. This module offers a range of optimization algorithms, with capabilities for linear programming using interior point methods. It's widely used due to its integration with the Python ecosystem and its balance between ease of use and powerful optimization capabilities.\n",
    "\n",
    "2. [**CVXOPT (Python):**](https://cvxopt.org) Dedicated to convex optimization, CVXOPT provides specialized functions for solving linear and quadratic programming problems using interior point methods. It is particularly useful for problems in this domain due to its focus on convex problems, offering robust and efficient algorithm implementations.\n",
    "\n",
    "3. [**COIN-OR (C++/Various):**](https://www.coin-or.org) An umbrella for open-source software for the operations research community, COIN-OR houses several libraries like Ipopt (Interior Point OPTimizer). Ipopt is designed for large-scale nonlinear optimization, leveraging interior point methods. This makes it ideal for complex optimization problems in both academic research and industrial applications.\n",
    "\n",
    "4. [**GLPK (GNU Linear Programming Kit):**](https://www.gnu.org/software/glpk/) GLPK is designed for solving large-scale linear programming (LP), mixed-integer programming (MIP), and other related problems. It includes an interior point solver for LP, making it a good choice for projects that require solving these specific types of optimization problems, especially in the context of open-source and GNU-based environments.\n",
    "\n",
    "5. [**Eigen (C++):**](https://eigen.tuxfamily.org/index.php?title=Main_Page) Primarily a linear algebra library, Eigen is known for its versatility and high performance in matrix operations. While it doesn't directly implement interior point methods, it's often used alongside other libraries to develop such solutions, especially in applications that require intensive linear algebra computations."
   ]
  }
 ],
 "metadata": {
  "kernelspec": {
   "display_name": "Python 3 (ipykernel)",
   "language": "python",
   "name": "python3"
  },
  "language_info": {
   "codemirror_mode": {
    "name": "ipython",
    "version": 3
   },
   "file_extension": ".py",
   "mimetype": "text/x-python",
   "name": "python",
   "nbconvert_exporter": "python",
   "pygments_lexer": "ipython3",
   "version": "3.10.11"
  }
 },
 "nbformat": 4,
 "nbformat_minor": 5
}
