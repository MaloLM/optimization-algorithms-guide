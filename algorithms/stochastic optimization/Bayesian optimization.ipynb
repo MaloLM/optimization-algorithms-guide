{
 "cells": [
  {
   "cell_type": "markdown",
   "id": "f6d5ef08",
   "metadata": {},
   "source": [
    "# Bayesian optimisation"
   ]
  },
  {
   "cell_type": "markdown",
   "id": "7abfa78c",
   "metadata": {},
   "source": [
    "## Understanding the algorithm\n",
    "\n",
    "Adaptée aussi bien aux problèmes discrets que continus, mais souvent utilisée dans l'espace continu où l'évaluation de la fonction objectif est coûteuse."
   ]
  },
  {
   "cell_type": "markdown",
   "id": "a12c7314-7ccd-46de-95a4-0a22010513ae",
   "metadata": {},
   "source": [
    "## Usage examples\n",
    "\n",
    "Details ici..."
   ]
  },
  {
   "cell_type": "markdown",
   "id": "f7767bb7",
   "metadata": {},
   "source": [
    "## Strengths\n",
    "\n",
    "Details ici..."
   ]
  },
  {
   "cell_type": "markdown",
   "id": "8dfb1301",
   "metadata": {},
   "source": [
    "## Weaknesses\n",
    "\n",
    "Details ici..."
   ]
  },
  {
   "cell_type": "markdown",
   "id": "2ede478d",
   "metadata": {},
   "source": [
    "## Python demonstration"
   ]
  },
  {
   "cell_type": "code",
   "execution_count": null,
   "id": "c418c639-2bfa-462a-ad4c-f3c426a8ac0b",
   "metadata": {
    "tags": []
   },
   "outputs": [],
   "source": [
    "# code ici"
   ]
  },
  {
   "cell_type": "markdown",
   "id": "d457aaf3-dad6-4935-8c0a-e0e59091d3cc",
   "metadata": {},
   "source": [
    "End of demonstration\n",
    "\n",
    "---\n",
    "\n",
    "## Practical Optimization Tools\n",
    "\n",
    "1. **[GPyOpt (Python):](https://sheffieldml.github.io/GPyOpt/)**\n",
    "   GPyOpt is a Python open-source library specifically designed for Bayesian optimization with Gaussian processes. It leverages the GPy library for Gaussian process modeling. GPyOpt is popular for its flexibility and ease in handling a wide range of optimization problems, especially in hyperparameter tuning for machine learning models.\n",
    "\n",
    "2. **[SMAC (Java):](https://github.com/automl/SMAC3)**\n",
    "   SMAC (Sequential Model-based Algorithm Configuration) is an open-source tool implemented in Java, widely used for hyperparameter optimization, particularly in the domain of machine learning. It employs a Bayesian optimization framework using a combination of random forests and Gaussian processes. SMAC is known for its effectiveness in dealing with high-dimensional spaces and categorical parameters. While it's primarily Java-based, SMAC also provides interfaces for Python, making it versatile and accessible for a broader audience.\n",
    "\n",
    "3. **[Spearmint (Python):](https://github.com/JasperSnoek/spearmint)**\n",
    "   Spearmint is an open-source Bayesian optimization platform implemented in Python. It's particularly effective in optimizing expensive functions, where each function evaluation can be time-consuming. Spearmint is designed to be straightforward to set up and run, and it integrates well with other Python-based data science tools.\n",
    "\n",
    "4. **[BayesOpt (C++):](https://github.com/rmcantin/bayesopt)**\n",
    "   BayesOpt is a C++ library for Bayesian optimization, also providing interfaces for Python. It's well-suited for optimizing functions that are noisy and expensive to evaluate. This library is known for its robustness and has been used in various applications, including robotics and machine learning.\n",
    "\n",
    "5. **[Dragonfly (Python):](https://github.com/dragonfly/dragonfly)**\n",
    "   Dragonfly is an open-source library for scalable Bayesian optimization. It is written in Python but can also be used from other languages through its RESTful API. Dragonfly is designed for large-scale optimization problems and supports parallel evaluations, making it ideal for high-dimensional and expensive function evaluations.\n"
   ]
  },
  {
   "cell_type": "markdown",
   "metadata": {},
   "source": [
    "## Sources"
   ]
  }
 ],
 "metadata": {
  "kernelspec": {
   "display_name": "Python 3 (ipykernel)",
   "language": "python",
   "name": "python3"
  }
 },
 "nbformat": 4,
 "nbformat_minor": 5
}
