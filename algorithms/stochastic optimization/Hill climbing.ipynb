{
 "cells": [
  {
   "cell_type": "markdown",
   "id": "92c75f37-b681-4a6f-99c8-2671cc18eb6e",
   "metadata": {},
   "source": [
    "# Hill climbing"
   ]
  },
  {
   "cell_type": "markdown",
   "id": "70a12ee9",
   "metadata": {},
   "source": [
    "## Understanding the algorithm\n",
    "\n",
    "The Hill climbing algorithm is a mathematical optimization technique used primarily in artificial intelligence and numerical analysis. This local search algorithm aims to find the best solution to a problem by iteratively improving a given solution. The algorithm is primarily used for discrete problems but can be adapted to continuous problems.\n",
    "\n",
    "Hill climbing is an iterative local search algorithm that starts with an arbitrary solution to a problem and then tries to find a better solution by making incremental changes. If a change leads to a better solution, it's adopted, and the process continues until no further improvements can be found.\n",
    "\n",
    "2. **Problem Specifications for Use**:\n",
    "    - It is well-suited for optimization problems in AI, where the goal is to find the best solution from a set of possible solutions.\n",
    "    - The algorithm is particularly effective for convex problems, where it can find optimal solutions. For non-convex problems, it tends to find local optima, which are not necessarily the global best solutions.\n",
    "    - Hill climbing is used in applications like marketing, job scheduling, and in optimizing mathematical problems.\n",
    "    - It's an anytime algorithm, meaning it can return a valid solution even if interrupted before completion.\n",
    "\n",
    "3. **Algorithm Steps**:\n",
    "    - **Step 1**: Define the search space, which includes the range or domain of possible solutions.\n",
    "    - **Step 2**: Define the objective function to measure the quality or fitness of a solution.\n",
    "    - **Step 3**: Initialization involves generating or selecting an initial solution within the search space.\n",
    "    - **Step 4**: The algorithm then makes incremental changes to this solution, evaluating each change to see if it improves the solution. This process continues iteratively.\n",
    "    - Additionally, there are variations like steepest ascent hill climbing, where all successors are compared to choose the closest to the optimal solution, and stochastic hill climbing, which selects a neighbor at random. Random-restart hill climbing, another variant, involves performing the algorithm iteratively with random initial conditions.\n",
    "\n",
    "**Challenges**:\n",
    "- Hill climbing can get stuck in local maxima, especially in non-convex problems.\n",
    "- It struggles with ridges in continuous spaces, as it can only make axis-aligned moves.\n",
    "- Plateaus pose another challenge, where the search space is flat or indistinct, leading to indecision in the algorithm's next steps."
   ]
  },
  {
   "cell_type": "markdown",
   "id": "d3ec51c6",
   "metadata": {},
   "source": [
    "## Usage examples\n",
    "\n",
    "1. **Marketing**: In marketing, the hill climbing algorithm helps marketing managers create effective strategies. It's commonly used in solving problems like the Traveling Salesman Problem, optimizing aspects such as reducing travel distance and improving travel times for sales teams. This application leverages the algorithm's ability to establish local minima effectively.\n",
    "\n",
    "2. **Robotics**: The algorithm plays a significant role in robotics, particularly in enhancing the operation of various robotic systems and parts. It is instrumental in helping robots navigate through physical environments, adjusting their paths to reach a destination efficiently. This application demonstrates the algorithm's utility in dynamic, real-world situations where real-time decision-making is critical.\n",
    "\n",
    "3. **Job Scheduling**: Hill climbing is used in job scheduling, a process where resources on a computer system are distributed among various tasks. The algorithm facilitates the migration of jobs from one node to a neighboring node, establishing the most appropriate migratory route using its optimization capabilities.\n",
    "\n",
    "4. **Machine Learning**: In the field of machine learning, hill climbing is employed for hyperparameter tuning. It helps in finding the best combination of hyperparameters for machine learning models, optimizing their performance and accuracy.\n",
    "\n",
    "5. **Network Design**: The algorithm finds applications in optimizing network topologies and configurations in telecommunications and computer networks. This includes enhancing network performance and efficiency by optimizing the arrangement and connection of network nodes.\n",
    "\n",
    "6. **Game Playing AI**: In artificial intelligence for game playing, hill climbing is used to develop strategies that maximize game scores. This involves optimizing decision-making processes to achieve the best possible outcomes in gaming scenarios.\n",
    "\n",
    "7. **Natural Language Processing (NLP)**: The algorithm is utilized in NLP for tasks like text summarization, machine translation, and speech recognition. In these applications, it helps in optimizing algorithms to improve the accuracy and effectiveness of language processing tasks.\n",
    "\n",
    "8. **General Industrial Applications**: Beyond these specific fields, hill climbing is applied in solving various problems in many industrial domains, including convex optimization problems. Its evolution, such as through simulated annealing, allows for its application even in complex, multimodal problems, sometimes outperforming more advanced algorithms like genetic algorithms."
   ]
  },
  {
   "cell_type": "markdown",
   "id": "12cea663",
   "metadata": {},
   "source": [
    "## Strengths\n",
    "\n",
    "1. **Simplicity**: One of the key strengths of hill climbing is its simplicity. The algorithm is straightforward to understand and implement, making it an excellent choice for solving basic optimization problems. This simplicity also extends to its adaptability in various applications.\n",
    "\n",
    "2. **Memory Efficiency**: Hill climbing is memory efficient as it only stores the current state and explores nearby solutions. This efficiency is particularly beneficial in situations where memory resources are limited or when handling large datasets or complex problems where saving every state is impractical.\n",
    "\n",
    "3. **Quick Convergence**: The algorithm often converges rapidly to a local maximum. This makes it suitable for problems where finding a good solution quickly is more important than finding the absolute best solution. The quick convergence is advantageous in real-time systems or situations where a timely solution is critical.\n",
    "\n",
    "4. **Flexibility in Problem Domains**: Hill climbing can be used in both continuous and discrete domains, showcasing its flexibility. This versatility allows it to be applied in a variety of fields and for different types of optimization problems, including job shop scheduling, automatic programming, circuit designing, and vehicle routing.\n",
    "\n",
    "5. **Effectiveness in Specific Scenarios**: In certain scenarios, especially where the amount of time available for a search is limited, hill climbing can produce better results compared to other algorithms. Its effectiveness in these cases makes it a suitable choice for real-time systems and applications where rapid decisions are essential.\n",
    "\n",
    "6. **Useful in AI and Optimization**: Hill climbing is widely used in artificial intelligence for reaching a goal state from a starting node. Its application extends to various AI challenges like routing problems, portfolio management, chip design, and task scheduling, where it can address concerns with pure advancement by identifying the most suitable state.\n",
    "\n",
    "7. **Anytime Algorithm**: Being an anytime algorithm, hill climbing can return a valid solution even if it's interrupted at any stage before completion. This characteristic makes it practical for use in systems where processes may be halted or interrupted."
   ]
  },
  {
   "cell_type": "markdown",
   "id": "cf9ef04f",
   "metadata": {},
   "source": [
    "## Weaknesses\n",
    "\n",
    "1. **Local Maxima**: One of the most significant drawbacks of hill climbing is its tendency to converge on a local maximum, especially in non-convex landscapes. This occurs when the algorithm reaches a state that is better than its immediate neighbors but not necessarily better than other states that are farther away. In such cases, all moves from this point appear to worsen the situation, trapping the algorithm in a suboptimal solution.\n",
    "\n",
    "2. **Ridges**: In continuous spaces, ridges present a unique challenge for hill climbing algorithms. Ridges are areas of the search space higher than the surrounding areas and have a slope. The orientation of these high regions compared to the set of available moves often makes it impossible for the algorithm to traverse the ridge with single moves. Because hill climbers adjust only one element in the vector at a time, they can only navigate ridges or alleys by zig-zagging, which can be inefficient and time-consuming, especially if the sides of the ridge are very steep.\n",
    "\n",
    "3. **Plateaus**: Another common issue with hill climbing is encountering plateaus in the search space. A plateau is a flat area where a whole set of neighboring states have the same value. On a plateau, it becomes impossible to determine the best direction to move using local comparisons alone, as the evaluation function is flat. This can lead to the algorithm wandering aimlessly without any improvement, especially if the plateau is a flat local maximum or a shoulder from which progress is possible."
   ]
  },
  {
   "cell_type": "markdown",
   "id": "ac2cb33c",
   "metadata": {},
   "source": [
    "## Python demonstration\n",
    "\n",
    "Let's imagine that we seek to maximize the function f(x)=−x¨2 +4x on the interval [0, 4]."
   ]
  },
  {
   "cell_type": "code",
   "execution_count": 2,
   "id": "c56418f7-06a2-4284-9d90-1e840149f605",
   "metadata": {},
   "outputs": [],
   "source": [
    "import random\n",
    "\n",
    "# Fonction to maximize\n",
    "def f(x):\n",
    "    return -x ** 2 + 4 * x\n",
    "\n",
    "# Hill Climbing Algorithm\n",
    "def hill_climbing(start_x, iterations, step_size):\n",
    "    current_x = start_x\n",
    "    current_score = f(current_x)\n",
    "    \n",
    "    for i in range(iterations):\n",
    "        # define a new canditate solution\n",
    "        candidate_x = current_x + random.uniform(-step_size, step_size)\n",
    "        \n",
    "        # To avoid going out of range [0, 4]\n",
    "        candidate_x = max(0, min(4, candidate_x))\n",
    "        \n",
    "        # Evaluation of the new solution\n",
    "        candidate_score = f(candidate_x)\n",
    "        \n",
    "        # Take the new solution if it's better \n",
    "        if candidate_score > current_score:\n",
    "            current_x = candidate_x\n",
    "            current_score = candidate_score\n",
    "            \n",
    "    return current_x, current_score"
   ]
  },
  {
   "cell_type": "code",
   "execution_count": 4,
   "id": "fbd0873b",
   "metadata": {},
   "outputs": [
    {
     "name": "stdout",
     "output_type": "stream",
     "text": [
      "Best x found: 1.9999230457310826, Score: 3.9999999940780406\n"
     ]
    }
   ],
   "source": [
    "# Run of the algorithm\n",
    "start_x = random.uniform(0, 4)\n",
    "result_x, result_score = hill_climbing(start_x, 1000, 0.1)\n",
    "print(f\"Best x found: {result_x}, Score: {result_score}\")"
   ]
  },
  {
   "cell_type": "markdown",
   "metadata": {},
   "source": [
    "End of demonstration\n",
    "\n",
    "---\n",
    "\n",
    "## Practical optimization tools\n",
    "\n",
    "1. [**DEAP (Python):**](https://deap.readthedocs.io/en/master/) DEAP (Distributed Evolutionary Algorithms in Python) is a novel evolutionary computation framework for rapid prototyping and testing of ideas. It is designed for easy use and modification, and it supports various evolutionary algorithms, including hill climbing. DEAP is highly versatile and can be used for a range of optimization problems, making it a popular choice in both academic and industry settings.\n",
    "\n",
    "2. [**OptimLib (C++):**](https://github.com/kthohr/optim)  OptimLib is a C++ library for numerical optimization. It includes a collection of algorithms for solving both unconstrained and constrained optimization problems. While it might not have a specific hill climbing algorithm pre-built, its flexible design allows for the implementation of custom optimization techniques, including hill climbing. OptimLib is valued for its performance efficiency, making it suitable for applications where computational speed is crucial.\n",
    "\n",
    "3. [**Apache Spark (Scala, Java, Python, R):**](https://spark.apache.org/)  An open-source distributed computing system, Apache Spark offers robust optimization capabilities. Its MLlib library includes various optimization algorithms that can be adapted for hill climbing. Spark is known for its ability to process large-scale data, making it a top choice for big data applications requiring optimization techniques.\n",
    "\n",
    "4. [**TensorFlow (Python):**](https://www.tensorflow.org)  A widely used open-source machine learning library, TensorFlow facilitates the development of complex models with its flexible architecture. While primarily focused on deep learning, its optimization tools can be adapted for hill climbing algorithms. TensorFlow's scalability and extensive community support make it a popular choice for both academic and industry applications.\n",
    "\n",
    "5. [**Julia (Julia Language):**](https://julialang.org/)  A high-level, high-performance programming language for technical computing, Julia has strong capabilities in numerical optimization. It includes packages like `Optim.jl`, which provide tools for various optimization techniques, including hill climbing. Julia's efficiency and ease of use for mathematical computing make it a rising star in the data science and optimization community."
   ]
  },
  {
   "cell_type": "markdown",
   "metadata": {},
   "source": [
    "## Sources\n",
    "| Sources |\n",
    "|---------|\n",
    "| [Hill climbing - Wikipedia](https://en.wikipedia.org/wiki/Hill_climbing) |\n",
    "| [Introduction to Hill Climbing \\| Artificial Intelligence - Geeksforgeeks](https://www.geeksforgeeks.org/introduction-hill-climbing-artificial-intelligence/) |\n",
    "| [Hill Climbing - Codecademy](https://www.codecademy.com/resources/docs/ai/search-algorithms/hill-climbing) |\n",
    "| [Hill Climbing Optimization Algorithm: A Simple Beginner’s Guide - Towardsdatascience](https://towardsdatascience.com/hill-climbing-optimization-algorithm-simply-explained-dbf1e1e3cf6c) |\n",
    "| [Advantages and Disadvantages of Hill Climbing Algorithm - Webeduclick](https://webeduclick.com/advantages-and-disadvantages-of-hill-climbing-algorithm/) |\n",
    "| [Hill Climbing Algorithm in AI - Scaler Topics](https://www.scaler.com/topics/hill-climbing-in-ai) |\n",
    "| [Hill Climbing Algorithm in AI: Types, Features, and Applications - Knowledgehut](https://www.knowledgehut.com/blog/data-science/hill-climbing-algorithm-ai) |\n",
    "| [Understanding Hill Climbing Algorithm in Artificial Intelligence - Sectrion](https://www.section.io/engineering-education/understanding-hill-climbing-in-ai/) |\n",
    "| [Hill Climbing Algorithm](https://www.baeldung.com/cs/hill-climbing-algorithm) |"
   ]
  }
 ],
 "metadata": {
  "kernelspec": {
   "display_name": "Python 3 (ipykernel)",
   "language": "python",
   "name": "python3"
  },
  "language_info": {
   "codemirror_mode": {
    "name": "ipython",
    "version": 3
   },
   "file_extension": ".py",
   "mimetype": "text/x-python",
   "name": "python",
   "nbconvert_exporter": "python",
   "pygments_lexer": "ipython3",
   "version": "3.10.11"
  }
 },
 "nbformat": 4,
 "nbformat_minor": 5
}
