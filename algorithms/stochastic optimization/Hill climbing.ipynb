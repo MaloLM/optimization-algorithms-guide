{
 "cells": [
  {
   "cell_type": "markdown",
   "id": "92c75f37-b681-4a6f-99c8-2671cc18eb6e",
   "metadata": {},
   "source": [
    "# Hill climbing"
   ]
  },
  {
   "cell_type": "markdown",
   "id": "70a12ee9",
   "metadata": {},
   "source": [
    "## Understanding the algorithm\n",
    "\n",
    "This is an optimisation method for finding a local optimum. Principalement utilisée pour des problèmes discrets mais peut être adaptée à des problèmes continus.\n",
    "\n",
    "inputs:\n",
    "- initial node (configuration)\n",
    "- objective function, to optimise\n",
    "- neighbour nodes (configurations)\n",
    "\n",
    "The method simply consists of starting from the initial configuration, evaluating the neighboring solutions, and choosing the best of these, and repeating the operation until arriving at a position better than the neighboring positions1.\n",
    "\n",
    "Hill-climbing is an iterative, local and greedy method. It is similar to the gradient descent method but is rather used in a discrete context where the gradient is not defined.\n",
    "\n",
    "This works great with simple problems. As this is an exhaustive search, it is not possible to take it into account when dealing with large problem spaces.\n",
    "\n",
    "Steps:\n",
    "1. Initialization: Start with an initial solution, which can be chosen randomly or according to some heuristic.\n",
    "2. Evaluation: Evaluate the quality of this solution using an evaluation function (or cost function, as appropriate).\n",
    "3. Local modification: Slightly modify the current solution to obtain a new candidate solution.\n",
    "Comparison: Evaluate the new solution.\n",
    "4. Update: If the new solution is better, replace the old solution with the new one.\n",
    "5. Iteration: Repeat steps 3-5 until a stopping condition is reached (for example, a maximum number of iterations or a quality threshold)."
   ]
  },
  {
   "cell_type": "markdown",
   "id": "d3ec51c6",
   "metadata": {},
   "source": [
    "## Usage examples\n",
    "\n",
    "TBD"
   ]
  },
  {
   "cell_type": "markdown",
   "id": "12cea663",
   "metadata": {},
   "source": [
    "## Strengths"
   ]
  },
  {
   "cell_type": "markdown",
   "id": "cf9ef04f",
   "metadata": {},
   "source": [
    "## Weaknesses"
   ]
  },
  {
   "cell_type": "markdown",
   "id": "ac2cb33c",
   "metadata": {},
   "source": [
    "## Python demonstration\n",
    "\n",
    "Let's imagine that we seek to maximize the function f(x)=−x¨2 +4x on the interval [0, 4]."
   ]
  },
  {
   "cell_type": "code",
   "execution_count": 2,
   "id": "c56418f7-06a2-4284-9d90-1e840149f605",
   "metadata": {},
   "outputs": [],
   "source": [
    "import random\n",
    "\n",
    "# Fonction to maximize\n",
    "def f(x):\n",
    "    return -x ** 2 + 4 * x\n",
    "\n",
    "# Hill Climbing Algorithm\n",
    "def hill_climbing(start_x, iterations, step_size):\n",
    "    current_x = start_x\n",
    "    current_score = f(current_x)\n",
    "    \n",
    "    for i in range(iterations):\n",
    "        # define a new canditate solution\n",
    "        candidate_x = current_x + random.uniform(-step_size, step_size)\n",
    "        \n",
    "        # To avoid going out of range [0, 4]\n",
    "        candidate_x = max(0, min(4, candidate_x))\n",
    "        \n",
    "        # Evaluation of the new solution\n",
    "        candidate_score = f(candidate_x)\n",
    "        \n",
    "        # Take the new solution if it's better \n",
    "        if candidate_score > current_score:\n",
    "            current_x = candidate_x\n",
    "            current_score = candidate_score\n",
    "            \n",
    "    return current_x, current_score"
   ]
  },
  {
   "cell_type": "code",
   "execution_count": 4,
   "id": "fbd0873b",
   "metadata": {},
   "outputs": [
    {
     "name": "stdout",
     "output_type": "stream",
     "text": [
      "Best x found: 1.9999230457310826, Score: 3.9999999940780406\n"
     ]
    }
   ],
   "source": [
    "# Run of the algorithm\n",
    "start_x = random.uniform(0, 4)\n",
    "result_x, result_score = hill_climbing(start_x, 1000, 0.1)\n",
    "print(f\"Best x found: {result_x}, Score: {result_score}\")"
   ]
  },
  {
   "cell_type": "markdown",
   "metadata": {},
   "source": [
    "End of demonstration\n",
    "\n",
    "---\n",
    "\n",
    "## Practical optimization tools\n",
    "\n",
    "- 5 examples open source"
   ]
  },
  {
   "cell_type": "markdown",
   "metadata": {},
   "source": [
    "## Sources"
   ]
  }
 ],
 "metadata": {
  "kernelspec": {
   "display_name": "Python 3 (ipykernel)",
   "language": "python",
   "name": "python3"
  },
  "language_info": {
   "codemirror_mode": {
    "name": "ipython",
    "version": 3
   },
   "file_extension": ".py",
   "mimetype": "text/x-python",
   "name": "python",
   "nbconvert_exporter": "python",
   "pygments_lexer": "ipython3",
   "version": "3.10.11"
  }
 },
 "nbformat": 4,
 "nbformat_minor": 5
}
