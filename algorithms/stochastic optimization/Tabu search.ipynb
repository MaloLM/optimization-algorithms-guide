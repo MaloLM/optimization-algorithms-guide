{
 "cells": [
  {
   "cell_type": "markdown",
   "id": "f6d5ef08",
   "metadata": {},
   "source": [
    "# Tabu search"
   ]
  },
  {
   "cell_type": "markdown",
   "id": "7abfa78c",
   "metadata": {},
   "source": [
    "## Understanding the algorithm\n",
    "\n",
    "Tabu Search (TS) is an iterative neighborhood search algorithm that dynamically changes its neighborhood during the search process. This algorithm enhances local search by purposefully avoiding points in the search space that have already been visited, thus preventing loops and enabling the escape from local optima. \n",
    "\n",
    "Developed by Fred Glover in the late 1980s, Tabu Search is a meta-heuristic optimization algorithm. It shares similarities with Simulated Annealing in using local search methods but differs by its ability to accept a worse solution to prevent getting stuck in local minima. A key feature of Tabu Search is its use of memory structures, which prevent the algorithm from revisiting previously observed solutions.\n",
    "\n",
    "Tabu Search is classified as a local-search metaheuristic, which is utilized for combinatorial optimization problems. In these problems, the objective is to find an optimal ordering and selection of options. Local-search methods commence with a potential solution and then explore its neighborhood to find a better alternative. The adaptability of Tabu Search makes it applicable to various domains such as resource planning, telecommunications, VLSI design, financial analysis, scheduling, space planning, and energy distribution.\n",
    "\n",
    "Additionally, Tabu Search is often used to optimize model parameters. As a meta-heuristic, it serves as a general strategy to guide and control specific heuristics, integrating memory structures into local search strategies to overcome the limitations of local search. \n",
    "\n",
    "/!\\ Bien adaptée aux problèmes combinatoires discrets, même si elle peut être appliquée à des problèmes continus. /!\\\n",
    "\n",
    "### Fundamental Principles:\n",
    "\n",
    "1. **Exploration Beyond Local Optima**: \n",
    "    - One of the distinct features of Tabu Search is its capability to explore solutions beyond local optima. This means that even if the algorithm finds a local minimum or maximum, it might still consider moves that worsen the objective function, especially if no better alternatives are immediately available.\n",
    "\n",
    "<br>\n",
    "\n",
    "2. **Memory Utilization with Tabu List**: \n",
    "    - To ensure the search doesn't repeatedly explore the same solutions, a memory structure, known as the \"tabu list\", is maintained. This list keeps track of recently visited solutions, making them \"tabu\" or prohibited for a certain number of iterations.\n",
    "    - The aim of this prohibition is to encourage a more diverse exploration of the solution space and avoid cycling back to already-visited solutions.\n",
    "\n",
    "### Key Features:\n",
    "\n",
    "1. **Tabu Tenure**:\n",
    "    - When a particular move is declared as tabu, it's added to the tabu list with an associated \"tabu tenure\". This tenure represents the number of iterations for which the move will remain prohibited.\n",
    "    - As the algorithm progresses, the tabu tenure of each move is decremented by one.\n",
    "    - Once the tabu tenure of a move reaches zero, that move is no longer prohibited and can be considered again by the search.\n",
    "    - This dynamic adjustment of the tabu tenure ensures that the algorithm doesn't get trapped and has the opportunity to revisit potentially good moves after some time.\n",
    "\n",
    "<br>\n",
    "\n",
    "2. **Aspiration Criteria**:\n",
    "    - While the tabu list prevents revisiting recent solutions, there are scenarios where it might be beneficial to consider a tabu move. This is where the \"aspiration criteria\" come into play.\n",
    "    - Even if a move is tabu, the aspiration criteria can override this prohibition if certain conditions are met. For example:\n",
    "        - The tabu move might lead to a new global best solution.\n",
    "        - All other non-tabu moves available are worse than the current solution.\n",
    "    - If the aspiration criteria are satisfied, the tabu move is accepted. Subsequently, its tabu tenure is renewed to prevent immediate revisits."
   ]
  },
  {
   "cell_type": "markdown",
   "id": "a12c7314-7ccd-46de-95a4-0a22010513ae",
   "metadata": {},
   "source": [
    "## Usage examples\n",
    "\n",
    "1. **Resource Planning**: TS is used in resource planning, which involves allocating resources effectively to optimize certain objectives like cost, time, or efficiency.\n",
    "\n",
    "2. **Telecommunications**: In telecommunications, TS helps in optimizing network layouts, bandwidth allocation, and other complex routing problems.\n",
    "\n",
    "3. **VLSI Design**: TS is applied in Very Large Scale Integration (VLSI) design for optimizing the layout of circuits and systems.\n",
    "\n",
    "4. **Financial Analysis**: The algorithm is used in financial analysis to optimize investment strategies and manage risks.\n",
    "\n",
    "5. **Scheduling**: TS is widely used in scheduling, including job-shop scheduling, project scheduling, and scheduling in manufacturing and services.\n",
    "\n",
    "6. **Space Planning and Energy Distribution**: It helps in optimizing spatial layouts and energy distribution systems.\n",
    "\n",
    "7. **Molecular Engineering and Biomedical Analysis**: TS has applications in molecular engineering and biomedical analysis, such as identifying factors related to certain medical conditions.\n",
    "\n",
    "8. **Logistics**: The algorithm optimizes logistics operations, such as vehicle routing and supply chain management.\n",
    "\n",
    "9. **Pattern Classification and Neural Networks**: In the field of AI, TS is used for pattern classification tasks and optimizing neural network structures.\n",
    "\n",
    "10. **Flexible Manufacturing and Waste Management**: TS assists in optimizing manufacturing processes and managing waste effectively.\n",
    "\n",
    "11. **Mineral Exploration and Environmental Conservation**: The algorithm is applied in mineral exploration projects and environmental conservation efforts."
   ]
  },
  {
   "cell_type": "markdown",
   "id": "f7767bb7",
   "metadata": {},
   "source": [
    "## Strengths\n",
    "\n",
    "1. **Escaping Local Optima**: A notable strength of Tabu Search is its ability to escape from local optima. In each iteration, the algorithm evaluates a set of neighboring solutions to the current solution and retains the best among them. This selection includes solutions that might be worse than the current solution or the best solution found before the iteration, thus enabling the algorithm to move away from local optima and explore new areas of the search space.\n",
    "\n",
    "2. **Tabu List and Exploration of Search Space**: Tabu Search uses a tabu list to maintain a record of forbidden solutions, which are typically the ones that have been recently visited. This feature encourages the algorithm to explore different regions of the search space. The tabu list can also contain specific rules that define which solutions should be avoided, such as problem-specific constraints or user-defined hypotheses. The tabu status of a solution can expire after a predefined number of iterations, allowing for a dynamic exploration process.\n",
    "\n",
    "3. **Aspiration Criteria**: The algorithm moves to a new solution if it isn’t in the tabu list or if it meets the aspiration criteria, regardless of its status in the tabu list. This mechanism allows the inclusion of solutions that might have been previously marked as tabu but are currently favorable due to their high quality or distinctiveness. The aspiration criteria help in balancing the exploration and exploitation aspects of the search.\n",
    "\n",
    "4. **Intensification and Diversification**: Tabu Search's parameters can be adjusted to prioritize either intensification (focusing on promising areas of the search space) or diversification (exploring new regions). This flexibility is important for solving combinatorial optimization problems, as it allows the algorithm to find a balance between deepening the search in promising areas and broadening the search to avoid getting stuck in suboptimal solutions.\n",
    "\n",
    "5. **Short-Term and Long-Term Memory**: The algorithm employs different types of memory, such as short-term memory for recently considered solutions and long-term memory for diversification rules. These memory structures enable the algorithm to learn from the search history and adapt its strategy accordingly. Short-term memory alone may be sufficient to outperform conventional local search methods, but for more complex problems, the integration of intermediate and long-term memory structures is often necessary."
   ]
  },
  {
   "cell_type": "markdown",
   "id": "8dfb1301",
   "metadata": {},
   "source": [
    "## Weaknesses\n",
    "\n",
    "1. **Trapped at Local Optima and Cycling Problem**: Although Tabu Search is designed to avoid being trapped at local optima and the cycling problem, which are limitations of local search methods, there may still be scenarios where it struggles with these issues. This is especially true if the tabu list and other parameters are not optimally configured【59†source】.\n",
    "\n",
    "2. **Maintenance of the Tabu List**: The tabu list, which is central to the functioning of Tabu Search, needs careful maintenance and tuning. This includes defining what constitutes a 'tabu' solution and determining the length of time a solution stays in the tabu list. Managing these aspects can be complex and may require trial and error to optimize for specific problems【82†source】.\n",
    "\n",
    "3. **Definition of Neighborhood and Aspiration Criteria**: Tabu Search requires the definition of a neighborhood and aspiration criteria. These parameters are crucial for the algorithm's performance but can be challenging to set correctly. An inappropriate definition of the neighborhood or inadequate aspiration criteria could lead to suboptimal exploration of the search space【83†source】.\n",
    "\n",
    "4. **Complexity in Parameter Setting**: The effectiveness of Tabu Search heavily depends on the correct setting of its parameters. This includes the size of the tabu list, the definition of the neighborhood, the criteria for aspiration, and the balance between intensification and diversification. Finding the right combination of these parameters can be complex and problem-specific.\n",
    "\n",
    "5. **Computational Resources**: Like many optimization algorithms, Tabu Search can be computationally intensive, especially for large-scale problems or when the search space is vast and complex.\n",
    "\n",
    "6. **Potential Overfitting**: In the context of optimizing model parameters, there's a risk of overfitting the model to the training data if the search process is too intensive in certain areas of the search space."
   ]
  },
  {
   "cell_type": "markdown",
   "id": "2ede478d",
   "metadata": {},
   "source": [
    "## Python demonstration"
   ]
  },
  {
   "cell_type": "code",
   "execution_count": 1,
   "id": "c418c639-2bfa-462a-ad4c-f3c426a8ac0b",
   "metadata": {
    "tags": []
   },
   "outputs": [],
   "source": [
    "## python code"
   ]
  },
  {
   "cell_type": "markdown",
   "metadata": {},
   "source": [
    "End of demonstration\n",
    "\n",
    "---\n",
    "\n",
    "## Practical optimization tools\n",
    "\n",
    "1. [**Pyomo (Python):**](http://www.pyomo.org/) An open-source Python library for formulating, solving, and analyzing optimization models. Pyomo can integrate with a variety of solvers and supports the implementation of Tabu search within its framework. It's particularly popular for its ability to handle complex, large-scale optimization problems and for its compatibility with numerous third-party solvers. Pyomo is known for its powerful modeling capabilities in both linear and non-linear optimization.\n",
    "\n",
    "2. [**OR-Tools (Python, Java, C#):**](https://github.com/google/or-tools) A suite of tools for combinatorial optimization, linear programming, and constraint programming developed by Google. OR-Tools provides an extensive set of solvers, including those for routing and scheduling problems, which can be effectively combined with Tabu search strategies. It is particularly noted for its efficiency in solving large-scale, complex optimization problems.\n",
    "\n",
    "3. [**OptaPlanner (Java):**](https://www.optaplanner.org/) A constraint solver for Java that's optimized for planning and scheduling problems. OptaPlanner includes Tabu search as one of its core algorithms. It's known for its flexibility and scalability, often used in enterprise environments for optimizing logistics, rostering, and resource allocation.\n",
    "\n",
    "4. [**COIN-OR:**](https://github.com/coin-or/metslib) The Computational Infrastructure for Operations Research is a collection of open-source software tools for building optimization models and solving them. It includes a variety of solvers and libraries that can be adapted for Tabu search. COIN-OR is highly regarded in both academic and industrial circles for its robustness and versatility.\n",
    "\n",
    "5. [**JMetal (Java):**](https://github.com/jMetal/jMetal) A Java-based framework primarily used for multi-objective optimization with metaheuristic algorithms. JMetal includes implementations of Tabu search among other algorithms. It is widely used in the research community for its ease of use in designing, implementing, and experimenting with new metaheuristic algorithms."
   ]
  },
  {
   "cell_type": "markdown",
   "id": "d457aaf3-dad6-4935-8c0a-e0e59091d3cc",
   "metadata": {},
   "source": [
    "## Sources\n",
    "\n",
    "| Sources |\n",
    "|---------|\n",
    "| [Tabu search - Wikipedia](https://en.wikipedia.org/wiki/Tabu_search) |\n",
    "| [Tabu search introduction -Computer Monk on Youtube](https://www.youtube.com/watch?v=tIDhFPhrCbU) |\n",
    "| [Tabu search introduction II - Computer Monk on Youtube](https://www.youtube.com/watch?v=saNk8h2KuVE) |\n",
    "| [What is TABU Search? - Geeksforgeeks](https://www.geeksforgeeks.org/what-is-tabu-search) |\n",
    "| [Unlocking the Power of Tabu Search: An Easy-to-Understand Explanation - Towardsdatascience](https://towardsdatascience.com/tabu-search-simply-explained-ee2852339d78) |\n",
    "| [Optimization Techniques — Tabu Search - Towardsdatascience](https://towardsdatascience.com/optimization-techniques-tabu-search-36f197ef8e25) |\n",
    "| [Tabu search - Baeldung](https://www.baeldung.com/cs/tabu-search) |"
   ]
  }
 ],
 "metadata": {
  "kernelspec": {
   "display_name": "Python 3 (ipykernel)",
   "language": "python",
   "name": "python3"
  },
  "language_info": {
   "codemirror_mode": {
    "name": "ipython",
    "version": 3
   },
   "file_extension": ".py",
   "mimetype": "text/x-python",
   "name": "python",
   "nbconvert_exporter": "python",
   "pygments_lexer": "ipython3",
   "version": "3.10.11"
  }
 },
 "nbformat": 4,
 "nbformat_minor": 5
}
