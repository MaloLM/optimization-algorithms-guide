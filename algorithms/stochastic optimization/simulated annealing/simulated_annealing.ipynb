{
 "cells": [
  {
   "cell_type": "markdown",
   "id": "19f45a9a-f367-4b4f-91f7-9fdb7e3ff5d2",
   "metadata": {},
   "source": [
    "# Simulated annealing"
   ]
  },
  {
   "cell_type": "markdown",
   "id": "2f108132",
   "metadata": {},
   "source": [
    "## What is Simulated annealing?\n",
    "\n",
    "Improve of hill climbing\n",
    "\n",
    "Look to minimize local maxima/minima. Méthode utilisée pour les deux types de problèmes, mais principalement dans l'optimisation continue.\n",
    "It is often used to find an approximation of the global optimum of a function.\n",
    "The general idea is inspired by the physical process of metal cooling, where a material is slowly cooled to minimize defects and reach a low energy state.\n",
    "\n",
    "There is a probability not to choose the best neighbour, allowing to avoid local maximas.\n",
    "\n",
    "Probability of taking a worst neighbour decrease gradually. This way, Simulated annealing tend to look to hill climbing at at the end of the process.\n",
    "\n",
    "The number of iterations and the reduction in probabilities are defined using a “temperature” schedule, in descending order.\n",
    "• e.g.: 100 iterations schema [ 2-0, 2-1, 2-2, ..., 2-99]\n",
    "\n",
    "Definition of a schedule vary from a problem to another one.\n",
    "\n",
    "#### Main components\n",
    "- Initial state: Starting point in solution space.\n",
    "- Energy function (or cost function): Evaluates the quality of a solution.\n",
    "- Neighborhood function: Generates a new solution from the current solution.\n",
    "- Temperature: Parameter controlling the probability of accepting a less good solution.\n",
    "- Cooling function: Reduces temperature over time.\n",
    "\n",
    "#### Basic algorithm\n",
    "1. Initialize the solution s to an initial value.\n",
    "2. Set the temperature T to a high value.\n",
    "3. Repeat until the system \"freezes\" (i.e., T is very close to zero or a certain stopping criterion is reached):\n",
    "\n",
    "        a. Choose a neighbor s' of s using the neighborhood function.\n",
    "\n",
    "        b. Calculate ΔE = E(s') - E(s).\n",
    "\n",
    "        c. If ΔE < 0, then accept s' as the new solution.\n",
    "\n",
    "        d. Otherwise, accept s' with probability exp(-ΔE/T).\n",
    "\n",
    "        e. Reduce T using the cooling function."
   ]
  },
  {
   "cell_type": "markdown",
   "id": "f1dd5784",
   "metadata": {},
   "source": [
    "## Uses of simulated annealing"
   ]
  },
  {
   "cell_type": "markdown",
   "id": "c072088c",
   "metadata": {},
   "source": [
    "## Strengths"
   ]
  },
  {
   "cell_type": "markdown",
   "id": "030551e5",
   "metadata": {},
   "source": [
    "## Drawbacks"
   ]
  },
  {
   "cell_type": "markdown",
   "id": "8b068811",
   "metadata": {},
   "source": [
    "## Python example"
   ]
  },
  {
   "cell_type": "code",
   "execution_count": 1,
   "id": "63466cd4-dea9-4b8e-8d1a-400d15a1cae9",
   "metadata": {},
   "outputs": [],
   "source": [
    "import random\n",
    "import math\n",
    "\n",
    "# Objective function to minimize: f(x) = x^2\n",
    "def objective_function(x):\n",
    "    return x ** 2\n",
    "    #return -(x ** 2) + (4 * x)\n",
    "\n",
    "# Neighbor generation\n",
    "def neighbor(x):\n",
    "    return x + random.uniform(-1.0, 1.0)\n",
    "\n",
    "# Simulated annnealing algorithm\n",
    "def simulated_annealing():\n",
    "    x = random.uniform(-10, 10)  # Initial solution\n",
    "    T = 1.0  # Initial temperature\n",
    "    T_min = 0.0001  # Minimal temperature\n",
    "    alpha = 0.99  # Cooling factor\n",
    "\n",
    "    while T > T_min:\n",
    "        x_new = neighbor(x)\n",
    "        \n",
    "        delta_f = objective_function(x_new) - objective_function(x)\n",
    "        \n",
    "        if delta_f < 0:\n",
    "            x = x_new\n",
    "        else:\n",
    "            if random.random() < math.exp(-delta_f / T):\n",
    "                x = x_new\n",
    "                \n",
    "        T *= alpha\n",
    "\n",
    "    return x\n"
   ]
  },
  {
   "cell_type": "code",
   "execution_count": 1,
   "id": "20f9cff0",
   "metadata": {},
   "outputs": [
    {
     "ename": "NameError",
     "evalue": "name 'simulated_annealing' is not defined",
     "output_type": "error",
     "traceback": [
      "\u001b[0;31m---------------------------------------------------------------------------\u001b[0m",
      "\u001b[0;31mNameError\u001b[0m                                 Traceback (most recent call last)",
      "\u001b[1;32m/Users/malo/Documents/projets/informatique/jupyter/notebooks/optimization-algorithms/algorithms/stochastic optimization/simulated annealing/simulated_annealing.ipynb Cell 8\u001b[0m line \u001b[0;36m2\n\u001b[1;32m      <a href='vscode-notebook-cell:/Users/malo/Documents/projets/informatique/jupyter/notebooks/optimization-algorithms/algorithms/stochastic%20optimization/simulated%20annealing/simulated_annealing.ipynb#X10sZmlsZQ%3D%3D?line=0'>1</a>\u001b[0m \u001b[39m# Run of the algorithm\u001b[39;00m\n\u001b[0;32m----> <a href='vscode-notebook-cell:/Users/malo/Documents/projets/informatique/jupyter/notebooks/optimization-algorithms/algorithms/stochastic%20optimization/simulated%20annealing/simulated_annealing.ipynb#X10sZmlsZQ%3D%3D?line=1'>2</a>\u001b[0m result \u001b[39m=\u001b[39m simulated_annealing()\n\u001b[1;32m      <a href='vscode-notebook-cell:/Users/malo/Documents/projets/informatique/jupyter/notebooks/optimization-algorithms/algorithms/stochastic%20optimization/simulated%20annealing/simulated_annealing.ipynb#X10sZmlsZQ%3D%3D?line=2'>3</a>\u001b[0m \u001b[39mprint\u001b[39m(\u001b[39mf\u001b[39m\u001b[39m\"\u001b[39m\u001b[39mMinimal solution found : x = \u001b[39m\u001b[39m{\u001b[39;00mresult\u001b[39m}\u001b[39;00m\u001b[39m, f(x) = \u001b[39m\u001b[39m{\u001b[39;00mobjective_function(result)\u001b[39m}\u001b[39;00m\u001b[39m\"\u001b[39m)\n",
      "\u001b[0;31mNameError\u001b[0m: name 'simulated_annealing' is not defined"
     ]
    }
   ],
   "source": [
    "# Run of the algorithm\n",
    "result = simulated_annealing()\n",
    "print(f\"Minimal solution found : x = {result}, f(x) = {objective_function(result)}\")"
   ]
  },
  {
   "cell_type": "markdown",
   "id": "03d6f342",
   "metadata": {},
   "source": [
    "In practice, simulated annealing is used for much more complex problems.\n",
    "\n",
    "A more complex example might be the Traveling Salesman Problem (TSP). In this problem, we seek the shortest path that visits each city exactly once and returns to the original city. Simulated annealing can be used to find an approximate solution to this NP-hard problem."
   ]
  },
  {
   "cell_type": "code",
   "execution_count": 2,
   "id": "8238930f",
   "metadata": {},
   "outputs": [],
   "source": [
    "import random\n",
    "import math\n",
    "\n",
    "# Distance between 2 cities\n",
    "def distance(city1, city2):\n",
    "    x1, y1 = city1\n",
    "    x2, y2 = city2\n",
    "    return math.sqrt((x2 - x1)**2 + (y2 - y1)**2)\n",
    "\n",
    "# total travel cost\n",
    "def total_cost(route):\n",
    "    return sum(distance(route[i], route[i - 1]) for i in range(len(route)))\n",
    "\n",
    "# Generates a neighbor by swaping 2 random cities\n",
    "def generate_neighbor(route):\n",
    "    i, j = random.sample(range(len(route)), 2)\n",
    "    new_route = route[:]\n",
    "    new_route[i], new_route[j] = route[j], route[i]\n",
    "    return new_route\n",
    "\n",
    "# TSP simulated annealing algorithm\n",
    "def simulated_annealing_tsp(route):\n",
    "    T = 1000\n",
    "    T_min = 0.001\n",
    "    alpha = 0.995\n",
    "    \n",
    "    current_cost = total_cost(route)\n",
    "    \n",
    "    while T > T_min:\n",
    "        new_route = generate_neighbor(route)\n",
    "        new_cost = total_cost(new_route)\n",
    "    \n",
    "        delta_E = new_cost - current_cost\n",
    "        \n",
    "        if delta_E < 0 or random.uniform(0, 1) < math.exp(-delta_E / T):\n",
    "            route = new_route\n",
    "            current_cost = new_cost\n",
    "        \n",
    "        T *= alpha\n",
    "\n",
    "    return route, current_cost\n",
    "\n",
    "# Liste de villes (x, y)\n",
    "\n",
    "cities = [(random.uniform(0, 100), random.uniform(0, 100)) for _ in range(20)]\n",
    "\n",
    "# Solution initiale : parcours dans l'ordre de l'array\n",
    "initial_route = cities[:]"
   ]
  },
  {
   "cell_type": "code",
   "execution_count": 10,
   "id": "88c67215",
   "metadata": {},
   "outputs": [
    {
     "name": "stdout",
     "output_type": "stream",
     "text": [
      "Best travel: [(0.5461777190979511, 34.571608998188495), (2.0401543660053645, 90.99898660818533), (30.056777518703893, 66.37069680886667), (40.1404570483593, 52.13263337624648), (52.273392423287426, 62.139910127315666), (54.41989943677367, 74.3570559746448), (90.53256989291086, 77.00279551888066), (97.345956613707, 56.32460558067205), (98.72657080798194, 48.10758251794094), (90.93861221265041, 38.59845809561754), (98.04045144319035, 29.83906298859371), (95.85436931681856, 12.045061401726898), (68.61516072781127, 16.500369562702634), (70.31394617867191, 2.158001267600851), (49.4141839185918, 5.885518158264292), (37.89568682830331, 14.65526322561127), (44.212294898394056, 25.881431178685354), (49.65719366120267, 26.977395408817074), (37.59613559542674, 13.177407881108893), (10.132858610619966, 0.5216817715137267)]\n",
      "Cost for best travel: 427.2641348426034\n"
     ]
    }
   ],
   "source": [
    "# Run of the algorithm\n",
    "best_route, best_cost = simulated_annealing_tsp(initial_route)\n",
    "print(\"Best travel:\", best_route)\n",
    "print(\"Cost for best travel:\", best_cost)"
   ]
  },
  {
   "cell_type": "markdown",
   "id": "a6685bee",
   "metadata": {},
   "source": [
    "## Sources\n",
    "\n",
    "- https://www.youtube.com/watch?v=yxtbuK3dM7Y"
   ]
  }
 ],
 "metadata": {
  "kernelspec": {
   "display_name": "Python 3 (ipykernel)",
   "language": "python",
   "name": "python3"
  },
  "language_info": {
   "codemirror_mode": {
    "name": "ipython",
    "version": 3
   },
   "file_extension": ".py",
   "mimetype": "text/x-python",
   "name": "python",
   "nbconvert_exporter": "python",
   "pygments_lexer": "ipython3",
   "version": "3.10.11"
  }
 },
 "nbformat": 4,
 "nbformat_minor": 5
}
