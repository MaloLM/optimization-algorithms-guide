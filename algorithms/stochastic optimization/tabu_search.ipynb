{
 "cells": [
  {
   "cell_type": "markdown",
   "id": "f6d5ef08",
   "metadata": {},
   "source": [
    "# Tabu search"
   ]
  },
  {
   "cell_type": "markdown",
   "id": "7abfa78c",
   "metadata": {},
   "source": [
    "## Tabu Search: An Overview\n",
    "\n",
    "Tabu Search is a prominent metaheuristic approach, primarily used for solving optimization problems. The goal of this method is to optimize an objective function \\( f(x) \\) which could either be maximized or minimized, subject to associated constraints.\n",
    "\n",
    "Bien adaptée aux problèmes combinatoires discrets, même si elle peut être appliquée à des problèmes continus.\n",
    "\n",
    "### Fundamental Principles:\n",
    "\n",
    "1. **Exploration Beyond Local Optima**: \n",
    "    - One of the distinct features of Tabu Search is its capability to explore solutions beyond local optima. This means that even if the algorithm finds a local minimum or maximum, it might still consider moves that worsen the objective function, especially if no better alternatives are immediately available.\n",
    "\n",
    "2. **Memory Utilization with Tabu List**: \n",
    "    - To ensure the search doesn't repeatedly explore the same solutions, a memory structure, known as the \"tabu list\", is maintained. This list keeps track of recently visited solutions, making them \"tabu\" or prohibited for a certain number of iterations.\n",
    "    - The aim of this prohibition is to encourage a more diverse exploration of the solution space and avoid cycling back to already-visited solutions.\n",
    "\n",
    "### Key Features:\n",
    "\n",
    "1. **Tabu Tenure**:\n",
    "    - When a particular move is declared as tabu, it's added to the tabu list with an associated \"tabu tenure\". This tenure represents the number of iterations for which the move will remain prohibited.\n",
    "    - As the algorithm progresses, the tabu tenure of each move is decremented by one.\n",
    "    - Once the tabu tenure of a move reaches zero, that move is no longer prohibited and can be considered again by the search.\n",
    "    - This dynamic adjustment of the tabu tenure ensures that the algorithm doesn't get trapped and has the opportunity to revisit potentially good moves after some time.\n",
    "\n",
    "2. **Aspiration Criteria**:\n",
    "    - While the tabu list prevents revisiting recent solutions, there are scenarios where it might be beneficial to consider a tabu move. This is where the \"aspiration criteria\" come into play.\n",
    "    - Even if a move is tabu, the aspiration criteria can override this prohibition if certain conditions are met. For example:\n",
    "        - The tabu move might lead to a new global best solution.\n",
    "        - All other non-tabu moves available are worse than the current solution.\n",
    "    - If the aspiration criteria are satisfied, the tabu move is accepted. Subsequently, its tabu tenure is renewed to prevent immediate revisits.\n",
    "---"
   ]
  },
  {
   "cell_type": "markdown",
   "id": "a12c7314-7ccd-46de-95a4-0a22010513ae",
   "metadata": {},
   "source": [
    "## Uses of Tabu search\n",
    "\n",
    "1. **Scheduling Problems**:\n",
    "    - **Job-shop Scheduling**: Determining the order of jobs processed on machines to minimize makespan or total completion time.\n",
    "    - **University Timetabling**: Allocating lectures to timeslots and rooms such that constraints (like room capacities and lecturer availability) are met.\n",
    "\n",
    "2. **Vehicle Routing**:\n",
    "    - **Vehicle Routing Problem (VRP)**: Designing optimal routes for a fleet of vehicles to deliver goods to a set of customers.\n",
    "    - **Capacitated VRP**: As with VRP, but considering the carrying capacity of each vehicle.\n",
    "\n",
    "3. **Traveling Salesman Problem (TSP)**: Determining the shortest possible route that visits a set of cities and returns to the origin city.\n",
    "\n",
    "4. **Quadratic Assignment Problem (QAP)**: Allocating a set of facilities to a set of locations with the goal of minimizing the total cost based on distance and flow between facilities.\n",
    "\n",
    "5. **Graph-based Problems**:\n",
    "    - **Max-Cut Problem**: Dividing the nodes of a graph into two groups to maximize the sum of weights across the two groups.\n",
    "    - **Coloring Problem**: Assigning colors to nodes in a graph such that no two adjacent nodes have the same color.\n",
    "\n",
    "6. **Combinatorial Auctions**: Determining the winning set of bids in auctions where items can be bought in combinations.\n",
    "\n",
    "7. **Feature Selection**: Identifying a subset of relevant features for machine learning or statistical modeling to improve model performance or reduce complexity.\n",
    "\n",
    "8. **Network Design**:\n",
    "    - **Steiner Tree Problem**: Connecting a subset of nodes in a graph with the shortest possible network.\n",
    "    - **Frequency Assignment**: Assigning frequencies to radio transmitters such that interference is minimized.\n",
    "\n",
    "9. **Financial Optimization**: Portfolio optimization, where the aim is to select a set of investments to maximize returns subject to various constraints.\n",
    "\n",
    "10. **Packing and Cutting Problems**: \n",
    "    - **Bin Packing**: Efficiently packing items of different volumes into finite number of bins or containers.\n",
    "    - **Cutting Stock Problem**: Determining how to cut raw materials to meet customer orders while minimizing waste.\n",
    "\n",
    "These applications showcase the versatility of Tabu Search in addressing optimization challenges across diverse fields. The metaheuristic's ability to escape local optima and explore the solution space broadly makes it particularly useful in these complex problem domains.\n",
    "\n",
    "___"
   ]
  },
  {
   "cell_type": "markdown",
   "id": "f7767bb7",
   "metadata": {},
   "source": [
    "## Strengths \n",
    "\n",
    "1. **Escape from Local Optima**:\n",
    "    - TS is designed to move out of local optima by accepting non-improving moves. This feature makes it better equipped to find global optima compared to some other techniques that can easily get stuck in local optima.\n",
    "\n",
    "2. **Flexible Memory Mechanism**:\n",
    "    - The use of short-term (tabu list) and potentially long-term memory structures can guide the search more effectively. This memory aids in diversifying the search to explore new regions of the solution space.\n",
    "\n",
    "3. **Versatility**:\n",
    "    - Tabu Search is applicable to a wide variety of optimization problems, from combinatorial to continuous ones. It can be combined with other heuristics and be adapted to problem-specific nuances.\n",
    "\n",
    "\n",
    "4. **Simple to Implement**:\n",
    "    - Basic versions of TS are relatively easy to code and understand, making it accessible for those new to optimization.\n",
    "\n",
    "5. **Adaptive Search**:\n",
    "    - Through the use of aspiration criteria, TS can adaptively override the tabu status of certain moves under specific conditions, allowing a more flexible search process.\n",
    "___"
   ]
  },
  {
   "cell_type": "markdown",
   "id": "8dfb1301",
   "metadata": {},
   "source": [
    "## Drawbacks\n",
    "\n",
    "1. **Parameter Tuning**:\n",
    "    - TS requires setting several parameters, such as the size of the tabu list and the tabu tenure. Choosing inappropriate values can degrade performance. Often, extensive experimentation or domain knowledge is needed to set these parameters effectively.\n",
    "\n",
    "2. **Computational Intensity**:\n",
    "    - For some problems, especially when the solution space is vast, TS can be computationally intensive. Ensuring that the algorithm does not repeatedly explore unpromising regions is crucial for efficiency.\n",
    "\n",
    "3. **No Guarantee of Optimal Solution**:\n",
    "    - Like other metaheuristics, TS offers approximated solutions and does not guarantee that the found solution is globally optimal.\n",
    "\n",
    "4. **Potential for Cycling**:\n",
    "    - Even with the tabu list, there's a potential (though reduced) risk of cycling, especially if the tabu tenure is not set appropriately or if the aspiration criteria are too permissive.\n",
    "\n",
    "5. **Memory Overhead**:\n",
    "    - Maintaining a tabu list (and potentially other memory structures) introduces additional memory overhead. For large-scale problems, this could be a limitation.\n",
    "---"
   ]
  },
  {
   "cell_type": "markdown",
   "id": "2ede478d",
   "metadata": {},
   "source": [
    "## Python demonstration"
   ]
  },
  {
   "cell_type": "code",
   "execution_count": 1,
   "id": "c418c639-2bfa-462a-ad4c-f3c426a8ac0b",
   "metadata": {
    "tags": []
   },
   "outputs": [],
   "source": [
    "## python code"
   ]
  },
  {
   "cell_type": "markdown",
   "id": "d457aaf3-dad6-4935-8c0a-e0e59091d3cc",
   "metadata": {},
   "source": [
    "---\n",
    "## Sources\n",
    "- https://en.wikipedia.org/wiki/Tabu_search\n",
    "- https://www.youtube.com/watch?v=saNk8h2KuVE\n",
    "- https://www.youtube.com/watch?v=tIDhFPhrCbU"
   ]
  }
 ],
 "metadata": {
  "kernelspec": {
   "display_name": "Python 3 (ipykernel)",
   "language": "python",
   "name": "python3"
  },
  "language_info": {
   "codemirror_mode": {
    "name": "ipython",
    "version": 3
   },
   "file_extension": ".py",
   "mimetype": "text/x-python",
   "name": "python",
   "nbconvert_exporter": "python",
   "pygments_lexer": "ipython3",
   "version": "3.10.11"
  }
 },
 "nbformat": 4,
 "nbformat_minor": 5
}
