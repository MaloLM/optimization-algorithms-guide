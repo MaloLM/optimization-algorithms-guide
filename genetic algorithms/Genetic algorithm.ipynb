{
 "cells": [
  {
   "cell_type": "markdown",
   "id": "f6d5ef08",
   "metadata": {},
   "source": [
    "# Genetic algorithm\n",
    "\n",
    "TBD"
   ]
  },
  {
   "cell_type": "markdown",
   "id": "a12c7314-7ccd-46de-95a4-0a22010513ae",
   "metadata": {},
   "source": [
    "## Some encoding methods\n",
    "\n",
    "### Binary Encoding\n",
    "\n",
    "Most common methods of encoding. Chromosomes are string of 1s and 0s and each position in the chromosome represents a particular characteristics of the solution. \n",
    "\n",
    "### Permutation Encoding\n",
    "\n",
    "Useful in ordering such as the Travelling Salesman Problem (TSP). In TSP, every chromosome is a string of numbers, each of which represents a city to be visited. \n",
    "\n",
    "### Value Encoding\n",
    "\n",
    "Used in problems where complicated values, such as real numbers, are used and where binary encoding would not suffice. Good for some problems, but often necessary to develop some specific crossover and mutation techniques for these chromosomes.\n",
    "Most suitable for optimization in a continuous search space."
   ]
  },
  {
   "cell_type": "code",
   "execution_count": 1,
   "id": "c418c639-2bfa-462a-ad4c-f3c426a8ac0b",
   "metadata": {
    "tags": []
   },
   "outputs": [],
   "source": [
    "initial_population = []\n",
    "\n",
    "# Evaluate with fitness function\n",
    "\n",
    "# satisfactory ? \n",
    "\n",
    "# yes -> break -> best individuals\n",
    "\n",
    "# no\n",
    "\n",
    "    # selection\n",
    "    \n",
    "    # crossover\n",
    "    \n",
    "    # mutation\n",
    "    \n",
    "    # new population generation, to test"
   ]
  },
  {
   "cell_type": "code",
   "execution_count": 3,
   "id": "414b08c4-fc44-4cf1-8407-5efc73ea3fef",
   "metadata": {},
   "outputs": [
    {
     "ename": "SyntaxError",
     "evalue": "invalid syntax. Perhaps you forgot a comma? (997486620.py, line 3)",
     "output_type": "error",
     "traceback": [
      "\u001b[0;36m  Cell \u001b[0;32mIn[3], line 3\u001b[0;36m\u001b[0m\n\u001b[0;31m    Initialize the population;\u001b[0m\n\u001b[0m    ^\u001b[0m\n\u001b[0;31mSyntaxError\u001b[0m\u001b[0;31m:\u001b[0m invalid syntax. Perhaps you forgot a comma?\n"
     ]
    }
   ],
   "source": [
    "Simple_Genetic_Algorithm()\n",
    "{\n",
    "     Initialize the population;\n",
    "     Calculate Fitness Function;\n",
    "\n",
    "     while(Fitness Value != Optimal Value)\n",
    "     {\n",
    "          Selection;  //Natural Selection, survival of fittest\n",
    "          Crossover;  //Reproduction, propagate favorable characteristics\n",
    "          Mutation;\n",
    "          Calculate Fitness Function;\n",
    "      }\n",
    "}"
   ]
  },
  {
   "cell_type": "markdown",
   "id": "d457aaf3-dad6-4935-8c0a-e0e59091d3cc",
   "metadata": {},
   "source": [
    "## Sources\n",
    "\n",
    "https://www.geeksforgeeks.org/encoding-methods-in-genetic-algorithm/\n",
    "\n",
    "https://medium.com/geekculture/encoding-techniques-in-genetic-algorithm-371bccbe4bf7"
   ]
  }
 ],
 "metadata": {
  "kernelspec": {
   "display_name": "Python 3 (ipykernel)",
   "language": "python",
   "name": "python3"
  },
  "language_info": {
   "codemirror_mode": {
    "name": "ipython",
    "version": 3
   },
   "file_extension": ".py",
   "mimetype": "text/x-python",
   "name": "python",
   "nbconvert_exporter": "python",
   "pygments_lexer": "ipython3",
   "version": "3.10.11"
  }
 },
 "nbformat": 4,
 "nbformat_minor": 5
}
