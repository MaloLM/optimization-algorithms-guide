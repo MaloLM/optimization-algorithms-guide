{
 "cells": [
  {
   "cell_type": "markdown",
   "id": "92c75f37-b681-4a6f-99c8-2671cc18eb6e",
   "metadata": {},
   "source": [
    "# Simplex algorithm of Dantzig\n",
    "\n",
    "\n",
    "### Avantages et inconvénients\n",
    "#### Avantages:\n",
    "\n",
    "- Très efficace en pratique, bien que son pire cas soit exponentiel.\n",
    "- Donne une solution exacte.\n",
    "\n",
    "#### Inconvénients:\n",
    "\n",
    "- Peut être coûteux en temps et en mémoire pour des problèmes de très grande taille.\n",
    "- Ne peut résoudre que des problèmes d'optimisation linéaire.\n",
    "\n",
    "\n",
    "### Principe (brouillon)\n",
    "\n",
    "on défini des contraintes \n",
    "on défini une fonction a maximiser Max: Z = \n"
   ]
  },
  {
   "cell_type": "markdown",
   "id": "ac2cb33c",
   "metadata": {},
   "source": [
    "### Python example"
   ]
  },
  {
   "cell_type": "code",
   "execution_count": 2,
   "id": "c56418f7-06a2-4284-9d90-1e840149f605",
   "metadata": {},
   "outputs": [],
   "source": []
  }
 ],
 "metadata": {
  "kernelspec": {
   "display_name": "Python 3 (ipykernel)",
   "language": "python",
   "name": "python3"
  },
  "language_info": {
   "codemirror_mode": {
    "name": "ipython",
    "version": 3
   },
   "file_extension": ".py",
   "mimetype": "text/x-python",
   "name": "python",
   "nbconvert_exporter": "python",
   "pygments_lexer": "ipython3",
   "version": "3.10.11"
  }
 },
 "nbformat": 4,
 "nbformat_minor": 5
}
