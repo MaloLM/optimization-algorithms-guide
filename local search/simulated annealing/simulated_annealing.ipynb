{
 "cells": [
  {
   "cell_type": "markdown",
   "id": "19f45a9a-f367-4b4f-91f7-9fdb7e3ff5d2",
   "metadata": {},
   "source": [
    "# Simulated annealing\n",
    "\n",
    "Improve of hill climbing\n",
    "\n",
    "look to minimize local maxima/minima\n",
    "It is often used to find an approximation of the global optimum of a function.\n",
    "The general idea is inspired by the physical process of metal cooling, where a material is slowly cooled to minimize defects and reach a low energy state.\n",
    "\n",
    "There is a probability not to choose the best neighbour, allowing to avoid local maximas.\n",
    "\n",
    "Probability of taking a worst neighbour decrease gradually. This way, Simulated annealing tend to look to hill climbing at at the end of the process.\n",
    "\n",
    "The number of iterations and the reduction in probabilities are defined using a “temperature” schedule, in descending order.\n",
    "• e.g.: 100 iterations schema [ 2-0, 2-1, 2-2, ..., 2-99]\n",
    "\n",
    "Definition of a schedule vary from a problem to another one.\n",
    "\n",
    "\n",
    "\n",
    "https://www.youtube.com/watch?v=yxtbuK3dM7Y"
   ]
  },
  {
   "cell_type": "markdown",
   "id": "c072088c",
   "metadata": {},
   "source": [
    "#### Main components\n",
    "- Initial state: Starting point in solution space.\n",
    "- Energy function (or cost function): Evaluates the quality of a solution.\n",
    "- Neighborhood function: Generates a new solution from the current solution.\n",
    "- Temperature: Parameter controlling the probability of accepting a less good solution.\n",
    "- Cooling function: Reduces temperature over time."
   ]
  },
  {
   "cell_type": "markdown",
   "id": "f1dd5784",
   "metadata": {},
   "source": [
    "#### Basic algorithm\n",
    "1. Initialize the solution s to an initial value.\n",
    "2. Set the temperature T to a high value.\n",
    "3. Repeat until the system \"freezes\" (i.e., T is very close to zero or a certain stopping criterion is reached):\n",
    "\n",
    "        a. Choose a neighbor s' of s using the neighborhood function.\n",
    "\n",
    "        b. Calculate ΔE = E(s') - E(s).\n",
    "\n",
    "        c. If ΔE < 0, then accept s' as the new solution.\n",
    "\n",
    "        d. Otherwise, accept s' with probability exp(-ΔE/T).\n",
    "\n",
    "        e. Reduce T using the cooling function."
   ]
  },
  {
   "cell_type": "markdown",
   "id": "8b068811",
   "metadata": {},
   "source": [
    "### Python example"
   ]
  },
  {
   "cell_type": "code",
   "execution_count": 12,
   "id": "63466cd4-dea9-4b8e-8d1a-400d15a1cae9",
   "metadata": {},
   "outputs": [],
   "source": [
    "import random\n",
    "import math\n",
    "\n",
    "# Objective function to minimize: f(x) = x^2\n",
    "def objective_function(x):\n",
    "    return x ** 2\n",
    "    #return -(x ** 2) + (4 * x)\n",
    "\n",
    "# Neighbor generation\n",
    "def neighbor(x):\n",
    "    return x + random.uniform(-1.0, 1.0)\n",
    "\n",
    "# Simulated annnealing algorithm\n",
    "def simulated_annealing():\n",
    "    x = random.uniform(-10, 10)  # Initial solution\n",
    "    T = 1.0  # Initial temperature\n",
    "    T_min = 0.0001  # Minimal temperature\n",
    "    alpha = 0.99  # Cooling factor\n",
    "\n",
    "    while T > T_min:\n",
    "        x_new = neighbor(x)\n",
    "        \n",
    "        delta_f = objective_function(x_new) - objective_function(x)\n",
    "        \n",
    "        if delta_f < 0:\n",
    "            x = x_new\n",
    "        else:\n",
    "            if random.random() < math.exp(-delta_f / T):\n",
    "                x = x_new\n",
    "                \n",
    "        T *= alpha\n",
    "\n",
    "    return x\n"
   ]
  },
  {
   "cell_type": "code",
   "execution_count": 18,
   "id": "20f9cff0",
   "metadata": {},
   "outputs": [
    {
     "name": "stdout",
     "output_type": "stream",
     "text": [
      "Minimal solution found : x = 0.013130192020945897, f(x) = 0.00017240194250691128\n"
     ]
    }
   ],
   "source": [
    "# Run of the algorithm\n",
    "result = simulated_annealing()\n",
    "print(f\"Minimal solution found : x = {result}, f(x) = {objective_function(result)}\")"
   ]
  },
  {
   "cell_type": "markdown",
   "id": "03d6f342",
   "metadata": {},
   "source": [
    "In practice, simulated annealing is used for much more complex problems.\n",
    "\n",
    "A more complex example might be the Traveling Salesman Problem (TSP). In this problem, we seek the shortest path that visits each city exactly once and returns to the original city. Simulated annealing can be used to find an approximate solution to this NP-hard problem."
   ]
  },
  {
   "cell_type": "code",
   "execution_count": 19,
   "id": "8238930f",
   "metadata": {},
   "outputs": [],
   "source": [
    "import random\n",
    "import math\n",
    "\n",
    "# Distance between 2 cities\n",
    "def distance(city1, city2):\n",
    "    x1, y1 = city1\n",
    "    x2, y2 = city2\n",
    "    return math.sqrt((x2 - x1)**2 + (y2 - y1)**2)\n",
    "\n",
    "# total travel cost\n",
    "def total_cost(route):\n",
    "    return sum(distance(route[i], route[i - 1]) for i in range(len(route)))\n",
    "\n",
    "# Generates a neighbor by swaping 2 random cities\n",
    "def generate_neighbor(route):\n",
    "    i, j = random.sample(range(len(route)), 2)\n",
    "    new_route = route[:]\n",
    "    new_route[i], new_route[j] = route[j], route[i]\n",
    "    return new_route\n",
    "\n",
    "# TSP simulated annealing algorithm\n",
    "def simulated_annealing_tsp(route):\n",
    "    T = 1000\n",
    "    T_min = 0.001\n",
    "    alpha = 0.995\n",
    "    \n",
    "    current_cost = total_cost(route)\n",
    "    \n",
    "    while T > T_min:\n",
    "        new_route = generate_neighbor(route)\n",
    "        new_cost = total_cost(new_route)\n",
    "        \n",
    "        delta_E = new_cost - current_cost\n",
    "        \n",
    "        if delta_E < 0 or random.uniform(0, 1) < math.exp(-delta_E / T):\n",
    "            route = new_route\n",
    "            current_cost = new_cost\n",
    "        \n",
    "        T *= alpha\n",
    "\n",
    "    return route, current_cost\n",
    "\n",
    "# Liste de villes (x, y)\n",
    "\n",
    "cities = [(random.uniform(0, 100), random.uniform(0, 100)) for _ in range(20)]\n",
    "\n",
    "# Solution initiale : parcours dans l'ordre de l'array\n",
    "initial_route = cities[:]\n",
    "\n"
   ]
  },
  {
   "cell_type": "code",
   "execution_count": 22,
   "id": "88c67215",
   "metadata": {},
   "outputs": [
    {
     "name": "stdout",
     "output_type": "stream",
     "text": [
      "Best travel: [(73.73318254371584, 56.05337486075307), (73.91761437806689, 40.78892388844771), (62.43707102992428, 37.12129153833782), (82.74783204695295, 25.105094711120156), (95.3106182631181, 22.776245394339323), (90.43949968739598, 9.837256716625697), (65.66965116540246, 16.17175280034293), (1.6511621665568632, 9.024800710476944), (12.601123594703179, 17.06041373813226), (38.189725260726604, 44.64221771034731), (25.319885191128378, 55.9528639723907), (8.902013947084264, 45.40079581074251), (0.8470752492153122, 49.62137503000831), (13.381916157647055, 83.98894221652473), (27.31853363882285, 71.5354615504877), (59.74364570707276, 79.28027822433677), (63.13953625186793, 84.8582315876055), (80.63210563739139, 97.9739106970483), (75.79905493709299, 83.29803128414083), (75.71834528327466, 79.27629900780158)]\n",
      "Cost for best travel: 424.2364223788179\n"
     ]
    }
   ],
   "source": [
    "# Run of the algorithm\n",
    "best_route, best_cost = simulated_annealing_tsp(initial_route)\n",
    "print(\"Best travel:\", best_route)\n",
    "print(\"Cost for best travel:\", best_cost)"
   ]
  }
 ],
 "metadata": {
  "kernelspec": {
   "display_name": "Python 3 (ipykernel)",
   "language": "python",
   "name": "python3"
  },
  "language_info": {
   "codemirror_mode": {
    "name": "ipython",
    "version": 3
   },
   "file_extension": ".py",
   "mimetype": "text/x-python",
   "name": "python",
   "nbconvert_exporter": "python",
   "pygments_lexer": "ipython3",
   "version": "3.10.11"
  }
 },
 "nbformat": 4,
 "nbformat_minor": 5
}
